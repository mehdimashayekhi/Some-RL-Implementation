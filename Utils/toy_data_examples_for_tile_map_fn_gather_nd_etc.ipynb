{
 "cells": [
  {
   "cell_type": "code",
   "execution_count": 2,
   "metadata": {
    "collapsed": false,
    "deletable": true,
    "editable": true
   },
   "outputs": [
    {
     "name": "stdout",
     "output_type": "stream",
     "text": [
      "1.3.0\n"
     ]
    }
   ],
   "source": [
    "import numpy as np\n",
    "import tensorflow as tf\n",
    "print(tf.__version__)"
   ]
  },
  {
   "cell_type": "code",
   "execution_count": 13,
   "metadata": {
    "collapsed": false
   },
   "outputs": [
    {
     "name": "stdout",
     "output_type": "stream",
     "text": [
      "h=\n",
      "[array([-5, -5, -5, -5], dtype=int32), array([ -7, -17,  -7,  -7], dtype=int32), array([ -9,  -9,  -9, -39], dtype=int32), array([-11, -11, -11,  -9], dtype=int32)]\n",
      "hh=\n",
      "[array([[[3],\n",
      "        [7],\n",
      "        [1]],\n",
      "\n",
      "       [[0],\n",
      "        [1],\n",
      "        [1]],\n",
      "\n",
      "       [[2],\n",
      "        [3],\n",
      "        [1]],\n",
      "\n",
      "       [[4],\n",
      "        [5],\n",
      "        [1]]], dtype=int32), array([[[2],\n",
      "        [8],\n",
      "        [1]],\n",
      "\n",
      "       [[0],\n",
      "        [1],\n",
      "        [1]],\n",
      "\n",
      "       [[2],\n",
      "        [3],\n",
      "        [1]],\n",
      "\n",
      "       [[4],\n",
      "        [5],\n",
      "        [1]]], dtype=int32), array([[[1],\n",
      "        [9],\n",
      "        [1]],\n",
      "\n",
      "       [[0],\n",
      "        [1],\n",
      "        [1]],\n",
      "\n",
      "       [[2],\n",
      "        [3],\n",
      "        [1]],\n",
      "\n",
      "       [[4],\n",
      "        [5],\n",
      "        [1]]], dtype=int32)]\n",
      "a=\n",
      "[[[3 2 1]\n",
      "  [7 8 9]\n",
      "  [1 1 1]]\n",
      "\n",
      " [[0 0 0]\n",
      "  [1 1 1]\n",
      "  [1 1 1]]\n",
      "\n",
      " [[2 2 2]\n",
      "  [3 3 3]\n",
      "  [1 1 1]]\n",
      "\n",
      " [[4 4 4]\n",
      "  [5 5 5]\n",
      "  [1 1 1]]]\n",
      "a.shape=(4, 3, 3)\n",
      "y.shape=(4, 4)\n",
      "y=\n",
      "[[ -5  -5  -5  -5]\n",
      " [ -7 -17  -7  -7]\n",
      " [ -9  -9  -9 -39]\n",
      " [-11 -11 -11  -9]]\n",
      "y1.shape=(4, ?)\n",
      "y1=\n",
      "[[ -5  -5  -5  -5  -5  -5  -5  -5  -5  -5  -5  -5]\n",
      " [ -7 -17  -7  -7  -7 -17  -7  -7  -7 -17  -7  -7]\n",
      " [ -9  -9  -9 -39  -9  -9  -9 -39  -9  -9  -9 -39]\n",
      " [-11 -11 -11  -9 -11 -11 -11  -9 -11 -11 -11  -9]]\n"
     ]
    }
   ],
   "source": [
    "# example usage of tf.tile. \n",
    "# Aim: Our tensor a is 3 dimensional in its last dimension.  We call its first dimension the batch dimension.\n",
    "# For each batch, we want to append a constant vector to all vectors of that batch (go from a to z in output below)\n",
    "tf.reset_default_graph()\n",
    "\n",
    "a=tf.constant([[[3,2,1],[7,8,9],[1,1,1]],\n",
    "               [[0,0,0],[1,1,1],[1,1,1]], \n",
    "               [[2,2,2],[3,3,3],[1,1,1]], \n",
    "               [[4,4,4],[5,5,5],[1,1,1]]])\n",
    "\n",
    "# 4 vectors to append, for 4 different batches\n",
    "y=tf.constant([[-5,-5,-5,-5],[-7,-17,-7,-7],[-9,-9,-9,-39],[-11,-11,-11,-9]])\n",
    "# make copies of those vectors with tf.tile\n",
    "h = tf.unstack(y, axis=0)\n",
    "y1=tf.tile(y,[1,tf.shape(a)[1]])\n",
    "hh = tf.split(a, 3,axis = -1)\n",
    "\n",
    "with tf.Session() as sess:\n",
    "    print(\"h=\")\n",
    "    print(sess.run(h)) \n",
    "    print(\"hh=\")\n",
    "    print(sess.run(hh))    \n",
    "    print(\"a=\")\n",
    "    print(sess.run(a))\n",
    "    print(\"a.shape={}\".format(a.shape))\n",
    "    print(\"y.shape={}\".format(y.shape))\n",
    "    print(\"y=\")\n",
    "    print(sess.run(y))\n",
    "    print(\"y1.shape={}\".format(y1.shape))\n",
    "    print(\"y1=\")\n",
    "    print(sess.run(y1))"
   ]
  },
  {
   "cell_type": "code",
   "execution_count": 62,
   "metadata": {
    "collapsed": false
   },
   "outputs": [
    {
     "name": "stdout",
     "output_type": "stream",
     "text": [
      "[[[  3   2   1]\n",
      "  [  7   8   9]\n",
      "  [ -1  -1  -1]\n",
      "  [300 200 100]]\n",
      "\n",
      " [[  0   0   0]\n",
      "  [  1   1   1]\n",
      "  [ -2  -2  -2]\n",
      "  [ 50  40  30]]\n",
      "\n",
      " [[  2   2   2]\n",
      "  [  3   3   3]\n",
      "  [ -3  -3  -3]\n",
      "  [ 20  20  20]]\n",
      "\n",
      " [[  4   4   4]\n",
      "  [  5   5   5]\n",
      "  [ -4  -4  -4]\n",
      "  [ 10  10  10]]\n",
      "\n",
      " [[  4   4   4]\n",
      "  [  5   5   5]\n",
      "  [ -4  -4  -4]\n",
      "  [ 90  90  90]]]\n"
     ]
    }
   ],
   "source": [
    "sess=tf.Session()\n",
    "x = tf.placeholder(tf.int32, (3,))\n",
    "y = x-2\n",
    "a=tf.constant([[[3,2,1],[7,8,9],[-1,-1,-1]],\n",
    "               [[0,0,0],[1,1,1],[-2,-2,-2]], \n",
    "               [[2,2,2],[3,3,3],[-3,-3,-3]], \n",
    "               [[4,4,4],[5,5,5],[-4,-4,-4]],\n",
    "               [[4,4,4],[5,5,5],[-4,-4,-4]]])\n",
    "b=tf.constant([[[300,200,100]],\n",
    "               [[50,40,30]], \n",
    "               [[20,20,20]], \n",
    "               [[10,10,10]],\n",
    "               [[90,90,90]]])\n",
    "xx = tf.tile(x, tf.shape(a)[0:1])\n",
    "\n",
    "c = tf.concat([a, b], axis=1)\n",
    "\n",
    "\n",
    "with tf.Session() as session:\n",
    "    result = session.run(c, feed_dict={x: np.array([20,25,30])})\n",
    "    print(result)"
   ]
  },
  {
   "cell_type": "code",
   "execution_count": 63,
   "metadata": {
    "collapsed": false
   },
   "outputs": [
    {
     "name": "stdout",
     "output_type": "stream",
     "text": [
      "[[[ -38  -38  -38  -38  -38]\n",
      "  [-172 -172 -172 -172 -172]\n",
      "  [ -21  -21  -21  -21  -21]]\n",
      "\n",
      " [[   0    0    0    0    0]\n",
      "  [ -21  -21  -21  -21  -21]\n",
      "  [ -21  -21  -21  -21  -21]]\n",
      "\n",
      " [[ -42  -42  -42  -42  -42]\n",
      "  [ -63  -63  -63  -63  -63]\n",
      "  [ -21  -21  -21  -21  -21]]\n",
      "\n",
      " [[ -84  -84  -84  -84  -84]\n",
      "  [-105 -105 -105 -105 -105]\n",
      "  [ -21  -21  -21  -21  -21]]]\n"
     ]
    }
   ],
   "source": [
    "sess=tf.Session()\n",
    "a=tf.constant([[[3,2,1],[7,8,9],[1,1,1]],\n",
    "               [[0,0,0],[1,1,1],[1,1,1]], \n",
    "               [[2,2,2],[3,3,3],[1,1,1]], \n",
    "               [[4,4,4],[5,5,5],[1,1,1]]])\n",
    "y=tf.constant([[-5,-5,-5,-5,-5],[-7,-7,-7,-7,-7],[-9,-9,-9,-9,-9]])\n",
    "attention = tf.einsum('ijk,kl->ijl', a, y)\n",
    "print(sess.run(attention))\n",
    "# print(sess.run(tf.shape(a)[1]))\n",
    "# y=tf.tile(y,[1,tf.shape(a)[1]])\n",
    "# print(sess.run(y))\n",
    "# y=tf.reshape(y,[tf.shape(a)[0],tf.shape(a)[1],-1])\n",
    "# print(sess.run(y))"
   ]
  },
  {
   "cell_type": "code",
   "execution_count": 2,
   "metadata": {
    "collapsed": false,
    "deletable": true,
    "editable": true
   },
   "outputs": [
    {
     "name": "stdout",
     "output_type": "stream",
     "text": [
      "a=\n",
      "[[[3 2 1]\n",
      "  [7 8 9]\n",
      "  [1 1 1]]\n",
      "\n",
      " [[0 0 0]\n",
      "  [1 1 1]\n",
      "  [1 1 1]]\n",
      "\n",
      " [[2 2 2]\n",
      "  [3 3 3]\n",
      "  [1 1 1]]\n",
      "\n",
      " [[4 4 4]\n",
      "  [5 5 5]\n",
      "  [1 1 1]]]\n",
      "a.shape=(4, 3, 3)\n",
      "y=\n",
      "[[[ -5  -5  -5  -5]\n",
      "  [ -5  -5  -5  -5]\n",
      "  [ -5  -5  -5  -5]]\n",
      "\n",
      " [[ -7  -7  -7  -7]\n",
      "  [ -7  -7  -7  -7]\n",
      "  [ -7  -7  -7  -7]]\n",
      "\n",
      " [[ -9  -9  -9  -9]\n",
      "  [ -9  -9  -9  -9]\n",
      "  [ -9  -9  -9  -9]]\n",
      "\n",
      " [[-11 -11 -11  -9]\n",
      "  [-11 -11 -11  -9]\n",
      "  [-11 -11 -11  -9]]]\n",
      "z=\n",
      "[[[  3   2   1  -5  -5  -5  -5]\n",
      "  [  7   8   9  -5  -5  -5  -5]\n",
      "  [  1   1   1  -5  -5  -5  -5]]\n",
      "\n",
      " [[  0   0   0  -7  -7  -7  -7]\n",
      "  [  1   1   1  -7  -7  -7  -7]\n",
      "  [  1   1   1  -7  -7  -7  -7]]\n",
      "\n",
      " [[  2   2   2  -9  -9  -9  -9]\n",
      "  [  3   3   3  -9  -9  -9  -9]\n",
      "  [  1   1   1  -9  -9  -9  -9]]\n",
      "\n",
      " [[  4   4   4 -11 -11 -11  -9]\n",
      "  [  5   5   5 -11 -11 -11  -9]\n",
      "  [  1   1   1 -11 -11 -11  -9]]]\n"
     ]
    }
   ],
   "source": [
    "# example usage of tf.tile. \n",
    "# Aim: Our tensor a is 3 dimensional in its last dimension.  We call its first dimension the batch dimension.\n",
    "# For each batch, we want to append a constant vector to all vectors of that batch (go from a to z in output below)\n",
    "\n",
    "a=tf.constant([[[3,2,1],[7,8,9],[1,1,1]],\n",
    "               [[0,0,0],[1,1,1],[1,1,1]], \n",
    "               [[2,2,2],[3,3,3],[1,1,1]], \n",
    "               [[4,4,4],[5,5,5],[1,1,1]]])\n",
    "\n",
    "# 4 vectors to append, for 4 different batches\n",
    "y=tf.constant([[-5,-5,-5,-5],[-7,-7,-7,-7],[-9,-9,-9,-9],[-11,-11,-11,-9]])\n",
    "# make copies of those vectors with tf.tile\n",
    "y=tf.tile(y,[1,tf.shape(a)[1]])\n",
    "# reshape them, so that they can be appended\n",
    "y=tf.reshape(y,[tf.shape(a)[0],tf.shape(a)[1],-1])\n",
    "# append\n",
    "z=tf.concat([a,y],axis=2)\n",
    "\n",
    "with tf.Session() as sess:\n",
    "    print(\"a=\")\n",
    "    print(sess.run(a))\n",
    "    print(\"a.shape={}\".format(a.shape))\n",
    "    print(\"y=\")\n",
    "    print(sess.run(y))\n",
    "    print(\"z=\")\n",
    "    print(sess.run(z))"
   ]
  },
  {
   "cell_type": "code",
   "execution_count": 8,
   "metadata": {
    "collapsed": false,
    "deletable": true,
    "editable": true
   },
   "outputs": [
    {
     "name": "stdout",
     "output_type": "stream",
     "text": [
      "---Tensor\n",
      "[[ 1.  2.  3.]\n",
      " [ 4.  5.  6.]]\n",
      "---Mask\n",
      "[[ True False  True]\n",
      " [ True  True False]]\n",
      "---tf.cast(mask,dtype=tf.float32)\n",
      "[[ 1.  0.  1.]\n",
      " [ 1.  1.  0.]]\n",
      "---tensor*tf.cast(mask,dtype=tf.float32)\n",
      "[[ 1.  0.  3.]\n",
      " [ 4.  5.  0.]]\n",
      "---tf.boolean_mask(tensor,mask)\n",
      "[ 1.  3.  4.  5.]\n"
     ]
    }
   ],
   "source": [
    "# example usage of a mask tensor\n",
    "tensor = tf.constant(np.array([[1, 2, 3],[4, 5, 6]]), dtype=tf.float32)\n",
    "mask = tf.constant(np.array([[True, False, True],[True,True,False]]))\n",
    "\n",
    "with tf.Session() as sess:\n",
    "    print(\"---Tensor\")\n",
    "    print(sess.run(tensor))\n",
    "    print(\"---Mask\")\n",
    "    print(sess.run(mask))\n",
    "    print(\"---tf.cast(mask,dtype=tf.float32)\")\n",
    "    print(sess.run(tf.cast(mask,dtype=tf.float32)))\n",
    "    print(\"---tensor*tf.cast(mask,dtype=tf.float32)\")\n",
    "    print(sess.run(tensor*tf.cast(mask,dtype=tf.float32)))\n",
    "    print(\"---tf.boolean_mask(tensor,mask)\")\n",
    "    print(sess.run(tf.boolean_mask(tensor,mask)))"
   ]
  },
  {
   "cell_type": "code",
   "execution_count": 3,
   "metadata": {
    "collapsed": false,
    "deletable": true,
    "editable": true
   },
   "outputs": [
    {
     "name": "stdout",
     "output_type": "stream",
     "text": [
      "a=Tensor(\"Const:0\", shape=(2, 3, 4), dtype=int32)\n",
      "b=Tensor(\"Reshape:0\", shape=(?, 1, ?), dtype=int32)\n",
      "a\n",
      "[[[ 1  0  0  0]\n",
      "  [ 2  0  0  0]\n",
      "  [ 3  0  0  0]]\n",
      "\n",
      " [[-1  0  0  0]\n",
      "  [-2  0  0  0]\n",
      "  [-3  0  0  0]]]\n",
      "b\n",
      "[[[7 7 7 7]]\n",
      "\n",
      " [[7 7 7 7]]]\n",
      "z\n",
      "[[[ 1  0  0  0]\n",
      "  [ 2  0  0  0]\n",
      "  [ 3  0  0  0]\n",
      "  [ 7  7  7  7]]\n",
      "\n",
      " [[-1  0  0  0]\n",
      "  [-2  0  0  0]\n",
      "  [-3  0  0  0]\n",
      "  [ 7  7  7  7]]]\n"
     ]
    }
   ],
   "source": [
    "# Using our knowledge about tf tile to append a sentinel vector (go from a to z in output below)\n",
    "a=tf.constant([[[1,0,0,0],[2,0,0,0],[3,0,0,0]],[[-1,0,0,0],[-2,0,0,0],[-3,0,0,0]]])\n",
    "b=tf.constant([7,7,7,7])\n",
    "b=tf.tile(b,tf.shape(a)[0:1])\n",
    "b=tf.reshape(b,(-1,1,tf.shape(a)[2]))\n",
    "z=tf.concat([a,b],axis=1)\n",
    "print(\"a={}\".format(a))\n",
    "print(\"b={}\".format(b))\n",
    "\n",
    "with tf.Session() as sess:\n",
    "    print(\"a\")\n",
    "    print(sess.run(a))\n",
    "    print(\"b\")\n",
    "    print(sess.run(b))\n",
    "    print(\"z\")\n",
    "    print(sess.run(z))"
   ]
  },
  {
   "cell_type": "code",
   "execution_count": 17,
   "metadata": {
    "collapsed": false
   },
   "outputs": [
    {
     "name": "stdout",
     "output_type": "stream",
     "text": [
      "Tensor(\"Const_26:0\", shape=(2, 3, 4), dtype=int32)\n",
      "Tensor(\"Const_27:0\", shape=(6, 2), dtype=int32)\n",
      "mt1\n",
      "[[[14  7  7  7]\n",
      "  [ 0 14 14 14]\n",
      "  [ 0 21 21 21]]\n",
      "\n",
      " [[16  8  8  8]\n",
      "  [ 0 16 16 16]\n",
      "  [ 0 24 24 24]]\n",
      "\n",
      " [[ 6  3  3  3]\n",
      "  [ 0  6  6  6]\n",
      "  [ 0  9  9  9]]\n",
      "\n",
      " [[10  5  5  5]\n",
      "  [ 0 10 10 10]\n",
      "  [ 0 15 15 15]]\n",
      "\n",
      " [[ 2  1  1  1]\n",
      "  [ 0  2  2  2]\n",
      "  [ 0  3  3  3]]\n",
      "\n",
      " [[18  9  9  9]\n",
      "  [ 0 18 18 18]\n",
      "  [ 0 27 27 27]]]\n"
     ]
    }
   ],
   "source": [
    "W1=tf.constant([[[1,1,1,1],[2,2,2,2],[3,3,3,3]],[[1,0,0,0],[-2,0,0,0],[-3,0,0,0]]])\n",
    "ut_r=tf.constant([[7,7],[8,8],[3,3],[5,5],[1,1],[9,9] ])\n",
    "print(W1)\n",
    "print(ut_r)\n",
    "mt1 = tf.einsum('bt,top->bop', ut_r, W1)\n",
    "with tf.Session() as sess:\n",
    "    print(\"mt1\")\n",
    "    print(sess.run(mt1))"
   ]
  },
  {
   "cell_type": "code",
   "execution_count": 11,
   "metadata": {
    "collapsed": false
   },
   "outputs": [
    {
     "name": "stdout",
     "output_type": "stream",
     "text": [
      "(?,)\n",
      "(2, 4)\n",
      "z\n",
      "[[ 1.  1.  0.  0.  0.]\n",
      " [ 1.  0.  0.  0.  0.]]\n"
     ]
    }
   ],
   "source": [
    "#Another example needed for sentinel implementation\n",
    "a=tf.constant([[1,1,0,0],[1,0,0,0]],dtype=tf.float32)\n",
    "b=tf.constant([0],dtype=tf.float32)\n",
    "b=tf.tile(b,[tf.shape(a)[0]])\n",
    "print(b.shape)\n",
    "print(a.shape)\n",
    "b=tf.reshape(b,(tf.shape(a)[0],1))\n",
    "z=tf.concat([a,b],axis=1)\n",
    "with tf.Session() as sess:\n",
    "    print(\"z\")\n",
    "    print(sess.run(z))\n"
   ]
  },
  {
   "cell_type": "code",
   "execution_count": 5,
   "metadata": {
    "collapsed": true,
    "deletable": true,
    "editable": true
   },
   "outputs": [],
   "source": [
    "# In the code of the DCN_model, adding a sentinel could look like this (not yet implemented)\n",
    "#logging.info(\"q_outputs={}\".format(q_outputs))\n",
    "#q_sentinel = tf.get_variable(\"q_sentinel\", (rnn_size,), initializer=tf.contrib.layers.xavier_initializer())\n",
    "#q_sentinel = tf.tile(q_sentinel, tf.shape(q_outputs)[0:1])\n",
    "#q_sentinel = tf.reshape(q_sentinel, (-1, 1, tf.shape(q_outputs)[2]))\n",
    "#Qprime = tf.concat([q_outputs, q_sentinel], axis=1)"
   ]
  },
  {
   "cell_type": "code",
   "execution_count": 20,
   "metadata": {
    "collapsed": false,
    "deletable": true,
    "editable": true
   },
   "outputs": [
    {
     "name": "stdout",
     "output_type": "stream",
     "text": [
      "[[[ 1.  0.  2.  0.]\n",
      "  [ 2.  0.  3.  0.]\n",
      "  [ 3.  0.  4.  0.]]\n",
      "\n",
      " [[ 5.  0.  6.  0.]\n",
      "  [ 6.  0.  7.  0.]\n",
      "  [ 7.  0.  8.  0.]]]\n",
      "[[[  2.24515244e-01   8.25945437e-02   6.10295713e-01   8.25945437e-02]\n",
      "  [  2.50692427e-01   3.39275263e-02   6.81452632e-01   3.39275263e-02]\n",
      "  [  2.61927158e-01   1.30405845e-02   7.11991787e-01   1.30405845e-02]]\n",
      "\n",
      " [[  2.67970264e-01   1.80556939e-03   7.28418648e-01   1.80556939e-03]\n",
      "  [  2.68583328e-01   6.65751519e-04   7.30085194e-01   6.65751519e-04]\n",
      "  [  2.68809587e-01   2.45122617e-04   7.30700195e-01   2.45122617e-04]]]\n",
      "[[[ 0.09003057  0.24472848  0.66524094]\n",
      "  [ 0.33333334  0.33333334  0.33333334]\n",
      "  [ 0.09003057  0.24472848  0.66524094]\n",
      "  [ 0.33333334  0.33333334  0.33333334]]\n",
      "\n",
      " [[ 0.09003057  0.24472848  0.66524094]\n",
      "  [ 0.33333334  0.33333334  0.33333334]\n",
      "  [ 0.09003057  0.24472848  0.66524094]\n",
      "  [ 0.33333334  0.33333334  0.33333334]]]\n"
     ]
    }
   ],
   "source": [
    "# example usage of softmax\n",
    "a=tf.constant([[[1,0,2,0],[2,0,3,0],[3,0,4,0]],[[5,0,6,0],[6,0,7,0],[7,0,8,0]]],dtype='float32')\n",
    "\n",
    "with tf.Session() as sess:\n",
    "    print(sess.run(a))\n",
    "    print(sess.run(tf.nn.softmax(a)))\n",
    "    print(sess.run(tf.nn.softmax(tf.transpose(a,[0,2,1]))))\n",
    "#=>softmax is row wise"
   ]
  },
  {
   "cell_type": "code",
   "execution_count": 7,
   "metadata": {
    "collapsed": false,
    "deletable": true,
    "editable": true
   },
   "outputs": [
    {
     "name": "stdout",
     "output_type": "stream",
     "text": [
      "------------logits\n",
      "[[[ 10.  10.  20.  20.]\n",
      "  [ 11.  10.  10.  30.]\n",
      "  [ 12.  10.  10.  20.]\n",
      "  [ 13.  10.  10.  20.]]\n",
      "\n",
      " [[ 14.  11.  21.  31.]\n",
      "  [ 15.  11.  11.  21.]\n",
      "  [ 16.  11.  11.  21.]\n",
      "  [ 17.  11.  11.  21.]]]\n",
      "------------result\n",
      "[[ 11.  10.  10.  30.]\n",
      " [ 17.  11.  11.  21.]\n",
      " [ 15.  11.  11.  21.]]\n"
     ]
    }
   ],
   "source": [
    "# gather_nd example\n",
    "logits = tf.constant([[[10.0, 10.0, 20.0, 20.0],\n",
    "                      [11.0, 10.0, 10.0, 30.0],\n",
    "                      [12.0, 10.0, 10.0, 20.0],\n",
    "                      [13.0, 10.0, 10.0, 20.0]],\n",
    "                     [[14.0, 11.0, 21.0, 31.0],\n",
    "                      [15.0, 11.0, 11.0, 21.0],\n",
    "                      [16.0, 11.0, 11.0, 21.0],\n",
    "                      [17.0, 11.0, 11.0, 21.0]]])\n",
    "\n",
    "# pick vector 1 in batch 0, then vec 3 in batch 1 then vec 1 in batch 1\n",
    "indices = tf.constant([[0,1],[1,3],[1,1]]) \n",
    "\n",
    "result = tf.gather_nd(logits, indices)\n",
    "with tf.Session() as sess:\n",
    "    print(\"------------logits\")\n",
    "    print(sess.run(logits))\n",
    "    print(\"------------result\")\n",
    "    print(sess.run(result))\n"
   ]
  },
  {
   "cell_type": "code",
   "execution_count": 7,
   "metadata": {
    "collapsed": false,
    "deletable": true,
    "editable": true
   },
   "outputs": [
    {
     "name": "stdout",
     "output_type": "stream",
     "text": [
      "Tensor(\"Const_7:0\", shape=(3,), dtype=int32)\n",
      "Tensor(\"Shape_6:0\", shape=(1,), dtype=int32)\n",
      "[0 1]\n",
      "[-1  2  5]\n",
      "[0 1 2]\n"
     ]
    }
   ],
   "source": [
    "#tf range is simple :)\n",
    "\n",
    "pick = tf.constant([0,3,2],dtype='int32') \n",
    "print(pick)\n",
    "print(tf.shape(pick))\n",
    "idx = tf.range(0,tf.shape(pick)[0],1)\n",
    "\n",
    "with tf.Session() as sess:\n",
    "    print(sess.run(tf.range(0,2,1))) #start, stop, step\n",
    "    print(sess.run(tf.range(-1,7,3)))\n",
    "    print(sess.run(idx))"
   ]
  },
  {
   "cell_type": "code",
   "execution_count": 9,
   "metadata": {
    "collapsed": false,
    "deletable": true,
    "editable": true
   },
   "outputs": [
    {
     "name": "stdout",
     "output_type": "stream",
     "text": [
      "Tensor(\"Const_10:0\", shape=(3,), dtype=int32)\n",
      "Tensor(\"Const_9:0\", shape=(3, 4, 4), dtype=float32)\n",
      "----------logits\n",
      "[[[ 10.  10.  20.  20.]\n",
      "  [ 11.  10.  10.  30.]\n",
      "  [ 12.  10.  10.  20.]\n",
      "  [ 13.  10.  10.  20.]]\n",
      "\n",
      " [[ 14.  11.  21.  31.]\n",
      "  [ 15.  11.  11.  21.]\n",
      "  [ 16.  11.  11.  21.]\n",
      "  [ 17.  11.  11.  21.]]\n",
      "\n",
      " [[ -1.  11.  21.  31.]\n",
      "  [ -2.  11.  11.  21.]\n",
      "  [ -3.  11.  11.  21.]\n",
      "  [ -4.  11.  11.  21.]]]\n",
      "----------concat idx and pick\n",
      "[0 1 2 0 3 2]\n",
      "----------stack idx and pick to obtain n_idx\n",
      "[[0 0]\n",
      " [1 3]\n",
      " [2 2]]\n",
      "----------access logits via the index array n_idx\n",
      "[[ 10.  10.  20.  20.]\n",
      " [ 17.  11.  11.  21.]\n",
      " [ -3.  11.  11.  21.]]\n"
     ]
    }
   ],
   "source": [
    "# Example code for picking us and ue from U using tf.gather_nd() (see DCN_model.py)\n",
    "logits = tf.constant([[[10.0, 10.0, 20.0, 20.0],\n",
    "                      [11.0, 10.0, 10.0, 30.0],\n",
    "                      [12.0, 10.0, 10.0, 20.0],\n",
    "                      [13.0, 10.0, 10.0, 20.0]],\n",
    "                     [[14.0, 11.0, 21.0, 31.0],\n",
    "                      [15.0, 11.0, 11.0, 21.0],\n",
    "                      [16.0, 11.0, 11.0, 21.0],\n",
    "                      [17.0, 11.0, 11.0, 21.0]],\n",
    "                     [[-1, 11.0, 21.0, 31.0],\n",
    "                      [-2, 11.0, 11.0, 21.0],\n",
    "                      [-3, 11.0, 11.0, 21.0],\n",
    "                      [-4, 11.0, 11.0, 21.0]]])\n",
    "\n",
    "# in theses 3 batches of logits, I want to pick vec 0 in batch 0, vec 3 in batch 1, vec 2 in batch 2\n",
    "pick = tf.constant([0,3,2],dtype='int32') \n",
    "print(pick)\n",
    "idx = tf.range(0,tf.shape(pick)[0],1)\n",
    "n_idx = tf.stack([idx,pick],axis=1)\n",
    "\n",
    "print(logits)\n",
    "\n",
    "result = tf.gather_nd(logits, n_idx)\n",
    "\n",
    "with tf.Session() as sess:\n",
    "    print(10*\"-\"+\"logits\")\n",
    "    print(sess.run(logits))\n",
    "    print(10*\"-\"+\"concat idx and pick\")\n",
    "    print(sess.run(tf.concat([idx,pick],axis=0)))\n",
    "    print(10*\"-\"+\"stack idx and pick to obtain n_idx\")\n",
    "    print(sess.run(n_idx))\n",
    "    print(10*\"-\"+\"access logits via the index array n_idx\")\n",
    "    print(sess.run(result))"
   ]
  },
  {
   "cell_type": "code",
   "execution_count": 48,
   "metadata": {
    "collapsed": false,
    "deletable": true,
    "editable": true
   },
   "outputs": [
    {
     "name": "stdout",
     "output_type": "stream",
     "text": [
      "Tensor(\"Const:0\", shape=(2, 3, 4), dtype=float32)\n",
      "Tensor(\"transpose:0\", shape=(3, 2, 4), dtype=float32)\n",
      "('here', <tf.Tensor 'map/while/TensorArrayReadV3:0' shape=(2, 4) dtype=float32>)\n",
      "(3, 2)\n",
      "----------U\n",
      "[[[ 1.  4.  3.  0.]\n",
      "  [ 2.  0. -1.  0.]\n",
      "  [ 7.  0.  5.  0.]]\n",
      "\n",
      " [[-1.  0.  0.  0.]\n",
      "  [-2.  0.  0.  0.]\n",
      "  [-3.  5.  5.  5.]]]\n",
      "----------U_transpose\n",
      "[[[ 1.  4.  3.  0.]\n",
      "  [-1.  0.  0.  0.]]\n",
      "\n",
      " [[ 2.  0. -1.  0.]\n",
      "  [-2.  0.  0.  0.]]\n",
      "\n",
      " [[ 7.  0.  5.  0.]\n",
      "  [-3.  5.  5.  5.]]]\n",
      "----------Utilde\n",
      "[[  5.  -2.]\n",
      " [  3.  -4.]\n",
      " [ 19.  -1.]]\n",
      "----------tf.reshape(Utilde,[2,3])) fails to do the right thing!\n",
      "[[  5.  -2.   3.]\n",
      " [ -4.  19.  -1.]]\n",
      "----------tf.transpose(Utilde,[1,0])) gives the desired result\n",
      "[[  5.   3.  19.]\n",
      " [ -2.  -4.  -1.]]\n",
      "----------\n",
      "[2 2]\n"
     ]
    }
   ],
   "source": [
    "tf.reset_default_graph()\n",
    "# map_fn example. Pretty near to what is needed for the HMN decoder\n",
    "# Aim in this example: Each vector in U (along last dimension), should be mapped to its dot product with [2,0,1,0]\n",
    "# but assume that we have to transpose U first and have to work with U_transpose=tf.transpose(U,[1,0,2])\n",
    "U=tf.constant([[[1,4,3,0],[2,0,-1,0],[7,0,5,0]],[[-1,0,0,0],[-2,0,0,0],[-3,5,5,5]]], dtype='float32')\n",
    "U_transpose=tf.transpose(U,[1,0,2])\n",
    "print(U)\n",
    "print(U_transpose)\n",
    "proj = tf.constant([2,0,1,0],dtype='float32')\n",
    "def funci(u_t,projo):\n",
    "    print(\"here\",u_t)\n",
    "    return tf.reduce_sum(tf.multiply(u_t, projo),axis=1)\n",
    "#fn = lambda u_t: tf.multiply(u_t, proj)\n",
    "Utilde=tf.map_fn(lambda u_t: funci(u_t,proj), U_transpose, dtype=tf.float32)\n",
    "print(Utilde.shape)\n",
    "alpha = tf.transpose(Utilde,[1,0])\n",
    "with tf.Session() as sess:\n",
    "    print(10*\"-\"+\"U\")\n",
    "    print(sess.run(U))\n",
    "    print(10*\"-\"+\"U_transpose\")\n",
    "    print(sess.run(U_transpose))\n",
    "    print(10*\"-\"+\"Utilde\")\n",
    "    print(sess.run(Utilde))\n",
    "    print(\"-\"*10+\"tf.reshape(Utilde,[2,3])) fails to do the right thing!\")\n",
    "    print(sess.run(tf.reshape(Utilde,[2,3])))\n",
    "    print(\"-\"*10+\"tf.transpose(Utilde,[1,0])) gives the desired result\")\n",
    "    print(sess.run(tf.transpose(Utilde,[1,0])))\n",
    "    print(\"-\"*10)\n",
    "    print(sess.run(tf.argmax(alpha,1)))"
   ]
  },
  {
   "cell_type": "code",
   "execution_count": 35,
   "metadata": {
    "collapsed": false,
    "deletable": true,
    "editable": true
   },
   "outputs": [
    {
     "name": "stdout",
     "output_type": "stream",
     "text": [
      "[[ 1  2  3]\n",
      " [ 7  8  9]\n",
      " [17  8  9]]\n",
      "7\n"
     ]
    }
   ],
   "source": [
    "# example usage of reduce_max, necessary for the HMN decoder\n",
    "U=tf.constant([[1,2,3],[7,8,9], [17,8,9]])\n",
    "with tf.Session() as sess:\n",
    "    print(sess.run(U))\n",
    "    x = tf.reduce_mean(U)\n",
    "    print(sess.run(x))\n",
    "    x_resh = tf.reshape(x, [-1])\n",
    "#     print(sess.run(x_resh))\n",
    "# #     print(sess.run(tf.argmax(U,axis=1)))\n",
    "# #     print(sess.run(tf.reduce_mean(U,axis=1)))"
   ]
  },
  {
   "cell_type": "code",
   "execution_count": 28,
   "metadata": {
    "collapsed": false
   },
   "outputs": [
    {
     "name": "stdout",
     "output_type": "stream",
     "text": [
      "[1 0]\n"
     ]
    }
   ],
   "source": [
    "alpha=tf.constant([[1,12,3],[17,8,9]])\n",
    "alphaa=tf.constant([1,2,3])\n",
    "beta=tf.constant([[8,4,6],[2,2,3]])\n",
    "alphaP=alphaa+1\n",
    "with tf.Session() as sess:\n",
    "#     print(sess.run([alpha, beta]))\n",
    "    print(sess.run(tf.argmax(alpha,axis=-1)))\n",
    "#     print(sess.run(tf.reduce_sum([alpha, beta])))\n",
    "#     print(sess.run((alphaP)))\n",
    "    "
   ]
  },
  {
   "cell_type": "code",
   "execution_count": 16,
   "metadata": {
    "collapsed": false
   },
   "outputs": [
    {
     "name": "stdout",
     "output_type": "stream",
     "text": [
      "Tensor(\"SequenceMask_9/Less:0\", shape=(3, 5), dtype=bool)\n",
      "Tensor(\"ExpandDims_8:0\", shape=(3, 5, 1), dtype=bool)\n",
      "[[ True False False False False]\n",
      " [ True  True  True False False]\n",
      " [ True  True False False False]]\n",
      "[[[ True]\n",
      "  [False]\n",
      "  [False]\n",
      "  [False]\n",
      "  [False]]\n",
      "\n",
      " [[ True]\n",
      "  [ True]\n",
      "  [ True]\n",
      "  [False]\n",
      "  [False]]\n",
      "\n",
      " [[ True]\n",
      "  [ True]\n",
      "  [False]\n",
      "  [False]\n",
      "  [False]]]\n",
      "[[[ True  True  True  True  True]\n",
      "  [False False False False False]\n",
      "  [False False False False False]\n",
      "  [False False False False False]\n",
      "  [False False False False False]]\n",
      "\n",
      " [[ True  True  True  True  True]\n",
      "  [ True  True  True  True  True]\n",
      "  [ True  True  True  True  True]\n",
      "  [False False False False False]\n",
      "  [False False False False False]]\n",
      "\n",
      " [[ True  True  True  True  True]\n",
      "  [ True  True  True  True  True]\n",
      "  [False False False False False]\n",
      "  [False False False False False]\n",
      "  [False False False False False]]]\n"
     ]
    }
   ],
   "source": [
    "mask=tf.sequence_mask([1, 3, 2], 5)\n",
    "print(mask)\n",
    "mask_1=tf.expand_dims(mask, 2)\n",
    "score_mask = tf.tile(mask_1, (1, 1, 5))\n",
    "print(mask_1)\n",
    "with tf.Session() as sess:\n",
    "    print(sess.run(mask))\n",
    "    print(sess.run(mask_1))\n",
    "    print(sess.run(score_mask))"
   ]
  },
  {
   "cell_type": "code",
   "execution_count": 28,
   "metadata": {
    "collapsed": false
   },
   "outputs": [
    {
     "name": "stdout",
     "output_type": "stream",
     "text": [
      "Tensor(\"Const_26:0\", shape=(2, 3, 4), dtype=int32)\n",
      "Tensor(\"Const_27:0\", shape=(2, 3, 5), dtype=int32)\n",
      "ddddd\n",
      "[[[3 2 1 4]\n",
      "  [7 8 9 2]\n",
      "  [1 1 1 3]]\n",
      "\n",
      " [[0 0 0 5]\n",
      "  [1 1 1 8]\n",
      "  [1 1 1 9]]]\n",
      "qqqqqq\n",
      "[[[1 1 2 1 3]\n",
      "  [2 2 1 2 7]\n",
      "  [0 0 0 1 2]]\n",
      "\n",
      " [[0 0 0 5 8]\n",
      "  [1 1 1 8 6]\n",
      "  [1 1 1 9 4]]]\n",
      "afffff \n",
      "[[[ 17  18  19   8]\n",
      "  [ 17  18  19   8]\n",
      "  [ 13  12  11  10]\n",
      "  [ 18  19  20  11]\n",
      "  [ 60  64  68  32]]\n",
      "\n",
      " [[  2   2   2  17]\n",
      "  [  2   2   2  17]\n",
      "  [  2   2   2  17]\n",
      "  [ 17  17  17 170]\n",
      "  [ 10  10  10 124]]]\n"
     ]
    }
   ],
   "source": [
    "d=tf.constant([[[3,2,1,4],[7,8,9,2],[1,1,1,3]],\n",
    "               [[0,0,0,5],[1,1,1,8],[1,1,1,9]]])\n",
    "print(d)\n",
    "q=tf.constant([[[1,1,2,1,3],[2,2,1,2,7],[0,0,0,1,2]],\n",
    "               [[0,0,0,5,8],[1,1,1,8,6],[1,1,1,9,4]]])\n",
    "print(q)\n",
    "\n",
    "unmasked_affinity = tf.einsum('ndh,ndq->nqh', d, q)\n",
    "\n",
    "with tf.Session() as sess:\n",
    "    print(\"ddddd\")\n",
    "    print(sess.run(d))\n",
    "    print(\"qqqqqq\")\n",
    "    print(sess.run(q))\n",
    "    print(\"afffff \")\n",
    "    print(sess.run(unmasked_affinity))"
   ]
  },
  {
   "cell_type": "code",
   "execution_count": 17,
   "metadata": {
    "collapsed": false
   },
   "outputs": [
    {
     "name": "stdout",
     "output_type": "stream",
     "text": [
      "Tensor(\"Const_7:0\", shape=(5,), dtype=int32)\n",
      "Tensor(\"document_length0_3:0\", shape=(?,), dtype=int32)\n",
      "Tensor(\"zeros_13:0\", shape=(5,), dtype=int32)\n",
      "Tensor(\"stack_10:0\", shape=(5, 2), dtype=int32)\n",
      "<tensorflow.python.ops.tensor_array_ops.TensorArray object at 0x10dbb3210>\n",
      "[0 0 0 0 0]\n",
      "[19 24 29  9  3]\n",
      "[[ 0 19]\n",
      " [ 0 24]\n",
      " [ 0 29]\n",
      " [ 0  9]\n",
      " [ 0  3]]\n",
      "[ True  True  True  True  True  True  True  True]\n"
     ]
    }
   ],
   "source": [
    "proj = tf.constant([20,25,30,10,4])\n",
    "print(proj)\n",
    "document_length0 = tf.placeholder(tf.int32, (None,), name='document_length0')\n",
    "print(document_length0)\n",
    "start = tf.zeros((5,), dtype=tf.int32)\n",
    "print(start)\n",
    "end = proj - 1\n",
    "answer = tf.stack([start, end], axis=1)\n",
    "print(answer)\n",
    "not_settled = tf.tile([True], (8,))\n",
    "ta = tf.TensorArray(dtype=tf.int32, size=3)\n",
    "print(ta)\n",
    "\n",
    "with tf.Session() as session:\n",
    "    print(session.run(start))\n",
    "    print(session.run(end))\n",
    "    print(session.run(answer))\n",
    "    print(session.run(not_settled))"
   ]
  },
  {
   "cell_type": "code",
   "execution_count": 19,
   "metadata": {
    "collapsed": false
   },
   "outputs": [
    {
     "name": "stdout",
     "output_type": "stream",
     "text": [
      "[[2 2 2 2 2 2 2 2 2 2]\n",
      " [2 2 2 2 2 2 2 2 2 2]\n",
      " [2 2 2 2 2 2 2 2 2 2]\n",
      " [2 2 2 2 2 2 2 2 2 2]\n",
      " [2 2 2 2 2 2 2 2 2 2]\n",
      " [2 2 2 2 2 2 2 2 2 2]\n",
      " [2 2 2 2 2 2 2 2 2 2]\n",
      " [2 2 2 2 2 2 2 2 2 2]\n",
      " [2 2 2 2 2 2 2 2 2 2]\n",
      " [2 2 2 2 2 2 2 2 2 2]]\n"
     ]
    }
   ],
   "source": [
    "import numpy as np\n",
    "import tensorflow as tf    \n",
    "\n",
    "# 1000 sequence in the length of 100\n",
    "matrix = tf.placeholder(tf.int32, shape=(10, 10), name=\"input_matrix\")\n",
    "matrix_rows = tf.shape(matrix)[0]\n",
    "ta = tf.TensorArray(dtype=tf.int32, size=matrix_rows)\n",
    "\n",
    "init_state = (0, ta)\n",
    "condition = lambda i, _: i < matrix_rows\n",
    "body = lambda i, ta: (i + 1, ta.write(i, matrix[i] * 2))\n",
    "n, ta_final = tf.while_loop(condition, body, init_state)\n",
    "# get the final result\n",
    "ta_final_result = ta_final.stack()\n",
    "\n",
    "# run the graph\n",
    "with tf.Session() as sess:\n",
    "    # print the output of ta_final_result\n",
    "    print sess.run(ta_final_result, feed_dict={matrix: np.ones(shape=(10,10), dtype=np.int32)})"
   ]
  },
  {
   "cell_type": "code",
   "execution_count": 25,
   "metadata": {
    "collapsed": false
   },
   "outputs": [
    {
     "name": "stdout",
     "output_type": "stream",
     "text": [
      "outputs:\n",
      "[2 2 5]\n",
      "[[[ 0.10392351 -0.40379575  0.33943516 -0.2635788   0.68510091]\n",
      "  [-0.99821121 -0.99999875 -0.92825377 -0.99843013  0.99999982]]\n",
      "\n",
      " [[-0.74601275 -0.99539089 -0.09117992 -0.9357574   0.99940032]\n",
      "  [ 0.          0.          0.          0.          0.        ]]]\n",
      "\n",
      "states:\n",
      "[[-0.99821121 -0.99999875 -0.92825377 -0.99843013  0.99999982]\n",
      " [-0.74601275 -0.99539089 -0.09117992 -0.9357574   0.99940032]]\n"
     ]
    }
   ],
   "source": [
    "tf.reset_default_graph()\n",
    "import numpy as np\n",
    "\n",
    "n_steps = 2\n",
    "n_inputs = 3\n",
    "n_neurons = 5\n",
    "\n",
    "X = tf.placeholder(dtype=tf.float32, shape=[None, n_steps, n_inputs])\n",
    "seq_length = tf.placeholder(tf.int32, [None])\n",
    "\n",
    "basic_cell = tf.nn.rnn_cell.BasicRNNCell(num_units=n_neurons)\n",
    "outputs, states = tf.nn.dynamic_rnn(basic_cell, X, sequence_length=seq_length, dtype=tf.float32)\n",
    "\n",
    "X_batch = np.array([\n",
    "  # t = 0      t = 1\n",
    "  [[0, 1, 2], [9, 8, 7]], # instance 0\n",
    "  [[3, 4, 5], [0, 0, 0]], # instance 1\n",
    "])\n",
    "seq_length_batch = np.array([2, 1])\n",
    "\n",
    "with tf.Session() as sess:\n",
    "    sess.run(tf.global_variables_initializer())\n",
    "    outputs_val, states_val = sess.run([outputs, states], \n",
    "                                     feed_dict={X: X_batch, seq_length: seq_length_batch})\n",
    "    print('outputs:')\n",
    "    print(sess.run(tf.shape(outputs_val)))\n",
    "    print(outputs_val)\n",
    "    print('\\nstates:')\n",
    "    print(states_val)"
   ]
  },
  {
   "cell_type": "code",
   "execution_count": 36,
   "metadata": {
    "collapsed": false
   },
   "outputs": [
    {
     "name": "stdout",
     "output_type": "stream",
     "text": [
      "outputs:\n",
      "[2 6]\n",
      "[[-0.00059593  0.00258833 -0.21033162 -0.00067049 -0.14312631 -0.31653395]\n",
      " [ 0.29717636  0.10479536 -0.04902191  0.02340557  0.0264852   0.41031399]]\n",
      "\n",
      "states:\n",
      "LSTMStateTuple(c=array([[ -8.47961660e-03,   4.81678136e-02,  -7.84035921e-01,\n",
      "         -6.87910477e-04,  -5.49614251e-01,  -9.96938109e-01],\n",
      "       [  4.05349284e-01,   1.13499925e-01,  -4.16956961e-01,\n",
      "          4.35479954e-02,   6.23860434e-02,   4.93930310e-01]], dtype=float32), h=array([[-0.00059593,  0.00258833, -0.21033162, -0.00067049, -0.14312631,\n",
      "        -0.31653395],\n",
      "       [ 0.29717636,  0.10479536, -0.04902191,  0.02340557,  0.0264852 ,\n",
      "         0.41031399]], dtype=float32))\n"
     ]
    }
   ],
   "source": [
    "tf.reset_default_graph()\n",
    "state_size=6\n",
    "lstm_dec = tf.contrib.rnn.LSTMCell(num_units=state_size)\n",
    "state = lstm_dec.zero_state(2, dtype=tf.float32)\n",
    "encoding = tf.placeholder(dtype=tf.float32, shape=[None, 6])\n",
    "output, state = lstm_dec(encoding, state)\n",
    "X_batch = np.array(\n",
    "  [[0, 1, 2, 9, 8, 7], \n",
    "  [3, 4, 5,0, 1, 3]])\n",
    "\n",
    "with tf.Session() as sess:\n",
    "    sess.run(tf.global_variables_initializer())\n",
    "    outputs_val, states_val = sess.run([output, state], \n",
    "                                     feed_dict={encoding: X_batch})\n",
    "    print('outputs:')\n",
    "    print(sess.run(tf.shape(outputs_val)))\n",
    "    print(outputs_val)\n",
    "    print('\\nstates:')\n",
    "#     print(sess.run(tf.shape(states_val)))\n",
    "    print(states_val)\n"
   ]
  },
  {
   "cell_type": "code",
   "execution_count": 44,
   "metadata": {
    "collapsed": false
   },
   "outputs": [
    {
     "name": "stdout",
     "output_type": "stream",
     "text": [
      "Tensor(\"Const:0\", shape=(2, 5), dtype=int32)\n",
      "Tensor(\"ExpandDims:0\", shape=(2, 1, 5), dtype=int32)\n",
      "proj\n",
      "[[20 25 30 10  4]\n",
      " [ 1  2  3  4  5]]\n",
      "proj_2\n",
      "[[[20 25 30 10  4]]\n",
      "\n",
      " [[ 1  2  3  4  5]]]\n",
      "proj_3\n",
      "[[[20 25 30 10  4]\n",
      "  [20 25 30 10  4]\n",
      "  [20 25 30 10  4]\n",
      "  [20 25 30 10  4]\n",
      "  [20 25 30 10  4]\n",
      "  [20 25 30 10  4]\n",
      "  [20 25 30 10  4]\n",
      "  [20 25 30 10  4]]\n",
      "\n",
      " [[ 1  2  3  4  5]\n",
      "  [ 1  2  3  4  5]\n",
      "  [ 1  2  3  4  5]\n",
      "  [ 1  2  3  4  5]\n",
      "  [ 1  2  3  4  5]\n",
      "  [ 1  2  3  4  5]\n",
      "  [ 1  2  3  4  5]\n",
      "  [ 1  2  3  4  5]]]\n"
     ]
    }
   ],
   "source": [
    "tf.reset_default_graph()\n",
    "proj = tf.constant([[20,25,30,10,4],[1,2,3,4,5]])\n",
    "print(proj)\n",
    "proj_2 = tf.expand_dims(proj, 1)\n",
    "print(proj_2)\n",
    "maxlen=8\n",
    "proj_3 = tf.tile(proj_2, (1, maxlen, 1))\n",
    "\n",
    "with tf.Session() as sess:\n",
    "    print(\"proj\")\n",
    "    print(sess.run(proj))\n",
    "    print(\"proj_2\")\n",
    "    print(sess.run(proj_2))\n",
    "    print(\"proj_3\")\n",
    "    print(sess.run(proj_3))"
   ]
  },
  {
   "cell_type": "code",
   "execution_count": 50,
   "metadata": {
    "collapsed": false
   },
   "outputs": [
    {
     "name": "stdout",
     "output_type": "stream",
     "text": [
      "Tensor(\"Const:0\", shape=(5, 6), dtype=float32)\n",
      "Tensor(\"Const_1:0\", shape=(6,), dtype=float32)\n",
      "[[ 5.  5.  5.  5.  5.  5.]\n",
      " [ 5.  5.  5.  5.  5.  5.]\n",
      " [ 5.  5.  5.  5.  5.  5.]\n",
      " [ 5.  5.  5.  5.  5.  5.]\n",
      " [ 5.  5.  5.  5.  5.  5.]]\n",
      "[ 0.  1.  2.  3.  4.  5.]\n",
      "[[  0.   5.  10.  15.  20.  25.]\n",
      " [  0.   5.  10.  15.  20.  25.]\n",
      " [  0.   5.  10.  15.  20.  25.]\n",
      " [  0.   5.  10.  15.  20.  25.]\n",
      " [  0.   5.  10.  15.  20.  25.]]\n",
      "[ 25.  25.  25.  25.  25.]\n"
     ]
    }
   ],
   "source": [
    "tf.reset_default_graph()\n",
    "x = tf.constant(5.0, shape=[5, 6])\n",
    "w = tf.constant([0.0, 1.0, 2.0, 3.0, 4.0, 5.0])\n",
    "xw = tf.multiply(x, w)\n",
    "max_in_rows = tf.reduce_max(xw, 1)\n",
    "print(x)\n",
    "print(w)\n",
    "sess = tf.Session()\n",
    "print sess.run(x)\n",
    "print sess.run(w)\n",
    "print sess.run(xw)\n",
    "print sess.run(max_in_rows)\n",
    "# ==> [25.0, 25.0, 25.0, 25.0, 25.0]"
   ]
  },
  {
   "cell_type": "code",
   "execution_count": 57,
   "metadata": {
    "collapsed": false
   },
   "outputs": [
    {
     "name": "stdout",
     "output_type": "stream",
     "text": [
      "[[20 25 30 10  4]\n",
      " [ 1  2  3  4  5]]\n",
      "[[10  5 13 11 49]\n",
      " [10  4  8  7  6]]\n",
      "[[[20 10]\n",
      "  [25  5]\n",
      "  [30 13]\n",
      "  [10 11]\n",
      "  [ 4 49]]\n",
      "\n",
      " [[ 1 10]\n",
      "  [ 2  4]\n",
      "  [ 3  8]\n",
      "  [ 4  7]\n",
      "  [ 5  6]]]\n",
      "[[20 25 30 10  4]\n",
      " [ 1  2  3  4  5]]\n",
      "[[10  5 13 11 49]\n",
      " [10  4  8  7  6]]\n"
     ]
    }
   ],
   "source": [
    "tf.reset_default_graph()\n",
    "proj_1 = tf.constant([[20,25,30,10,4],[1,2,3,4,5]])\n",
    "proj_2 = tf.constant([[10,5,13,11,49],[10,4,8,7,6]])\n",
    "logit = tf.stack([proj_1, proj_2], axis=2)\n",
    "start_logit, end_logit = logit[:, :, 0], logit[:, :, 1]\n",
    "with tf.Session() as sess:\n",
    "    print(sess.run(proj_1))\n",
    "    print(sess.run(proj_2))\n",
    "    print(sess.run(logit))\n",
    "    print(sess.run(start_logit))\n",
    "    print(sess.run(end_logit))"
   ]
  },
  {
   "cell_type": "code",
   "execution_count": 62,
   "metadata": {
    "collapsed": false
   },
   "outputs": [
    {
     "name": "stdout",
     "output_type": "stream",
     "text": [
      "Tensor(\"Tile:0\", shape=(10,), dtype=bool)\n",
      "[ True  True  True  True  True  True  True  True  True  True]\n",
      "True\n"
     ]
    }
   ],
   "source": [
    "tf.reset_default_graph()\n",
    "batch_size=10\n",
    "not_settled = tf.tile([True], (batch_size,))\n",
    "print(not_settled)\n",
    "x = tf.reduce_any(not_settled)\n",
    "with tf.Session() as sess:\n",
    "    print(sess.run(not_settled))\n",
    "    print(sess.run(x))"
   ]
  },
  {
   "cell_type": "code",
   "execution_count": 66,
   "metadata": {
    "collapsed": false
   },
   "outputs": [
    {
     "name": "stdout",
     "output_type": "stream",
     "text": [
      "[[[3 2 1 4]\n",
      "  [7 8 9 2]\n",
      "  [1 1 1 3]]\n",
      "\n",
      " [[0 0 0 5]\n",
      "  [1 1 1 8]\n",
      "  [1 1 1 9]]]\n",
      "[False  True]\n",
      "[[[0 0 0 5]\n",
      "  [1 1 1 8]\n",
      "  [1 1 1 9]]]\n"
     ]
    }
   ],
   "source": [
    "tf.reset_default_graph()\n",
    "encoding=tf.constant([[[3,2,1,4],[7,8,9,2],[1,1,1,3]],\n",
    "               [[0,0,0,5],[1,1,1,8],[1,1,1,9]]])\n",
    "batch_size=2\n",
    "not_settled = tf.constant([False,True])\n",
    "enc_masked = tf.boolean_mask(encoding, not_settled)\n",
    "with tf.Session() as sess:\n",
    "    print(sess.run(encoding))\n",
    "    print(sess.run(not_settled))\n",
    "    print(sess.run(enc_masked))"
   ]
  },
  {
   "cell_type": "code",
   "execution_count": 81,
   "metadata": {
    "collapsed": false
   },
   "outputs": [
    {
     "name": "stdout",
     "output_type": "stream",
     "text": [
      "[[1 2]\n",
      " [3 4]\n",
      " [7 8]]\n",
      "[[1 2]\n",
      " [5 4]\n",
      " [2 8]]\n",
      "[[False False]\n",
      " [ True False]\n",
      " [ True False]]\n",
      "[False  True  True]\n",
      "[1 2]\n",
      "[array([0, 1, 2], dtype=int32), array([1, 2], dtype=int32)]\n"
     ]
    }
   ],
   "source": [
    "tf.reset_default_graph()\n",
    "answer=tf.constant([[1,2],[3,4],[7,8]])\n",
    "new_answer=tf.constant([[1,2],[5,4],[2,8]])\n",
    "not_settled = tf.reduce_any(tf.not_equal(answer, new_answer), axis=1)\n",
    "batch_size=3\n",
    "new_idx = tf.boolean_mask(tf.range(batch_size), not_settled)\n",
    "with tf.Session() as sess:\n",
    "    print(sess.run(answer))\n",
    "    print(sess.run(new_answer))\n",
    "    print(sess.run(tf.not_equal(answer, new_answer)))\n",
    "    print(sess.run(not_settled))\n",
    "    print(sess.run(new_idx))\n",
    "    print(sess.run([tf.range(batch_size), new_idx]))"
   ]
  },
  {
   "cell_type": "code",
   "execution_count": 76,
   "metadata": {
    "collapsed": false
   },
   "outputs": [
    {
     "name": "stdout",
     "output_type": "stream",
     "text": [
      "[ 0.1        -1.          5.19999981  4.30000019 -1.          7.4000001 ]\n",
      "[ True False  True  True False  True]\n",
      "[1 0 1 1 0 1]\n",
      "('partitioned_data', [array([-1., -1.], dtype=float32), array([ 1.10000002,  6.19999981,  5.30000019,  8.39999962], dtype=float32)])\n",
      "('condition_indices', [array([1, 4], dtype=int32), array([0, 2, 3, 5], dtype=int32)])\n",
      "[ 1.10000002 -1.          6.19999981  5.30000019 -1.          8.39999962]\n"
     ]
    }
   ],
   "source": [
    "tf.reset_default_graph()\n",
    "x=tf.constant([0.1, -1., 5.2, 4.3, -1., 7.4])\n",
    "condition_mask=tf.not_equal(x,tf.constant(-1.))\n",
    "partitioned_data = tf.dynamic_partition(\n",
    "    x, tf.cast(condition_mask, tf.int32) , 2)\n",
    "partitioned_data[1] = partitioned_data[1] + 1.0\n",
    "\n",
    "condition_indices = tf.dynamic_partition(\n",
    "    tf.range(tf.shape(x)[0]), tf.cast(condition_mask, tf.int32) , 2)\n",
    "\n",
    "xx = tf.dynamic_stitch(condition_indices, partitioned_data)\n",
    "\n",
    "with tf.Session() as sess:\n",
    "    print(sess.run(x))\n",
    "    print(sess.run(condition_mask))\n",
    "    print(sess.run(tf.cast(condition_mask, tf.int32)))\n",
    "    print(\"partitioned_data\", sess.run(partitioned_data))\n",
    "    print(\"condition_indices\", sess.run(condition_indices))\n",
    "    print(sess.run(xx))"
   ]
  },
  {
   "cell_type": "code",
   "execution_count": 89,
   "metadata": {
    "collapsed": false
   },
   "outputs": [
    {
     "name": "stdout",
     "output_type": "stream",
     "text": [
      "<tensorflow.python.util.tf_should_use.TFShouldUseWarningWrapper object at 0x1193ef850>\n",
      "[[20 25 30 10  4]\n",
      " [ 1  2  3  4  5]\n",
      " [10  5 13 11 49]\n",
      " [10  4  8  7  6]\n",
      " [10 15 23 14 79]\n",
      " [19 22 54 71  6]]\n"
     ]
    }
   ],
   "source": [
    "tf.reset_default_graph()\n",
    "logits = tf.TensorArray(dtype=tf.int32, size=3)\n",
    "logit_0 = tf.constant([[20,25,30,10,4],[1,2,3,4,5]])\n",
    "logit_1 = tf.constant([[10,5,13,11,49],[10,4,8,7,6]])\n",
    "logit_2 = tf.constant([[10,15,23,14,79],[19,22,54,71,6]])\n",
    "logits = logits.write(0, logit_0)\n",
    "logits = logits.write(1, logit_1)\n",
    "logits = logits.write(2, logit_2)\n",
    "logitss = logits.concat()\n",
    "print(logits)\n",
    "with tf.Session() as sess:\n",
    "    print(sess.run(logitss))"
   ]
  },
  {
   "cell_type": "code",
   "execution_count": 110,
   "metadata": {
    "collapsed": false
   },
   "outputs": [
    {
     "name": "stdout",
     "output_type": "stream",
     "text": [
      "[[20  1 11]\n",
      " [30  3 33]]\n",
      "[[25  2 12]\n",
      " [10  4  4]]\n",
      "[23 28]\n"
     ]
    }
   ],
   "source": [
    "tf.reset_default_graph()\n",
    "y = tf.constant([[20,25],[30,10],[1,2],[3,4],[11,12],[33,4]])\n",
    "max_iter=3\n",
    "x=y[:, 0]\n",
    "x_sp = tf.split(x, max_iter)\n",
    "x_st = tf.stack(x_sp,axis=1)\n",
    "\n",
    "z=y[:, 1]\n",
    "z_sp = tf.split(z, max_iter)\n",
    "z_st = tf.stack(z_sp,axis=1)\n",
    "\n",
    "loss_per_example = tf.reduce_mean(x_st + z_st, axis=1)\n",
    "with tf.Session() as sess:\n",
    "#     print(sess.run(tf.shape(x)))\n",
    "#     print(sess.run((x)))\n",
    "#     print(sess.run((x_sp)))\n",
    "    print(sess.run((x_st)))\n",
    "    print(sess.run((z_st)))\n",
    "    print(sess.run(loss_per_example))"
   ]
  },
  {
   "cell_type": "code",
   "execution_count": 113,
   "metadata": {
    "collapsed": false
   },
   "outputs": [
    {
     "data": {
      "text/plain": [
       "23"
      ]
     },
     "execution_count": 113,
     "metadata": {},
     "output_type": "execute_result"
    }
   ],
   "source": [
    "(20+1+11+25+2+12)/3"
   ]
  },
  {
   "cell_type": "code",
   "execution_count": 114,
   "metadata": {
    "collapsed": true
   },
   "outputs": [],
   "source": [
    "def join(first, second):\n",
    "    a = []\n",
    "    for i, j in zip(first, second):\n",
    "        a.append(i+j)\n",
    "    return tuple(a)"
   ]
  },
  {
   "cell_type": "code",
   "execution_count": 115,
   "metadata": {
    "collapsed": false
   },
   "outputs": [
    {
     "name": "stdout",
     "output_type": "stream",
     "text": [
      "([2, 3, 5, 12, 23, 8], [1, 2, 4, 4, 1, 9])\n"
     ]
    }
   ],
   "source": [
    "first=[[2,3,5],[1,2,4]]\n",
    "second = [[12,23,8],[4,1,9]]\n",
    "joined = join(first, second)\n",
    "print(joined)"
   ]
  },
  {
   "cell_type": "code",
   "execution_count": 116,
   "metadata": {
    "collapsed": false
   },
   "outputs": [
    {
     "data": {
      "text/plain": [
       "[2, 3, 5, 12, 23, 8]"
      ]
     },
     "execution_count": 116,
     "metadata": {},
     "output_type": "execute_result"
    }
   ],
   "source": [
    "[2,3,5]+[12,23,8]"
   ]
  },
  {
   "cell_type": "code",
   "execution_count": 123,
   "metadata": {
    "collapsed": false
   },
   "outputs": [],
   "source": [
    "first=np.array([[1,2],[3,4],[7,8]])\n",
    "second=np.array([[1,2],[5,4],[2,8]])\n",
    "# start=[]\n",
    "# start.append(first)\n",
    "# start.append(second)\n",
    "# print start\n",
    "# print np.concatenate(start)"
   ]
  },
  {
   "cell_type": "code",
   "execution_count": 121,
   "metadata": {
    "collapsed": true
   },
   "outputs": [],
   "source": [
    "def exact_match(prediction, truth):\n",
    "    total = 0\n",
    "    em_total = 0\n",
    "    for i, single_truth in enumerate(truth):\n",
    "        if [prediction[0][i], prediction[1][i]] == single_truth:  # can possibly remove loop and just do the full comparison\n",
    "            em_total +=1\n",
    "        total += 1\n",
    "    em_total /= total\n",
    "    return em_total"
   ]
  },
  {
   "cell_type": "code",
   "execution_count": 124,
   "metadata": {
    "collapsed": false
   },
   "outputs": [
    {
     "ename": "ValueError",
     "evalue": "The truth value of an array with more than one element is ambiguous. Use a.any() or a.all()",
     "output_type": "error",
     "traceback": [
      "\u001b[0;31m---------------------------------------------------------------------------\u001b[0m",
      "\u001b[0;31mValueError\u001b[0m                                Traceback (most recent call last)",
      "\u001b[0;32m<ipython-input-124-136e6ceceaa0>\u001b[0m in \u001b[0;36m<module>\u001b[0;34m()\u001b[0m\n\u001b[0;32m----> 1\u001b[0;31m \u001b[0mexact_match\u001b[0m\u001b[0;34m(\u001b[0m\u001b[0mfirst\u001b[0m\u001b[0;34m,\u001b[0m\u001b[0msecond\u001b[0m\u001b[0;34m)\u001b[0m\u001b[0;34m\u001b[0m\u001b[0m\n\u001b[0m",
      "\u001b[0;32m<ipython-input-121-fa0dbce88ff0>\u001b[0m in \u001b[0;36mexact_match\u001b[0;34m(prediction, truth)\u001b[0m\n\u001b[1;32m      3\u001b[0m     \u001b[0mem_total\u001b[0m \u001b[0;34m=\u001b[0m \u001b[0;36m0\u001b[0m\u001b[0;34m\u001b[0m\u001b[0m\n\u001b[1;32m      4\u001b[0m     \u001b[0;32mfor\u001b[0m \u001b[0mi\u001b[0m\u001b[0;34m,\u001b[0m \u001b[0msingle_truth\u001b[0m \u001b[0;32min\u001b[0m \u001b[0menumerate\u001b[0m\u001b[0;34m(\u001b[0m\u001b[0mtruth\u001b[0m\u001b[0;34m)\u001b[0m\u001b[0;34m:\u001b[0m\u001b[0;34m\u001b[0m\u001b[0m\n\u001b[0;32m----> 5\u001b[0;31m         \u001b[0;32mif\u001b[0m \u001b[0;34m[\u001b[0m\u001b[0mprediction\u001b[0m\u001b[0;34m[\u001b[0m\u001b[0;36m0\u001b[0m\u001b[0;34m]\u001b[0m\u001b[0;34m[\u001b[0m\u001b[0mi\u001b[0m\u001b[0;34m]\u001b[0m\u001b[0;34m,\u001b[0m \u001b[0mprediction\u001b[0m\u001b[0;34m[\u001b[0m\u001b[0;36m1\u001b[0m\u001b[0;34m]\u001b[0m\u001b[0;34m[\u001b[0m\u001b[0mi\u001b[0m\u001b[0;34m]\u001b[0m\u001b[0;34m]\u001b[0m \u001b[0;34m==\u001b[0m \u001b[0msingle_truth\u001b[0m\u001b[0;34m:\u001b[0m  \u001b[0;31m# can possibly remove loop and just do the full comparison\u001b[0m\u001b[0;34m\u001b[0m\u001b[0m\n\u001b[0m\u001b[1;32m      6\u001b[0m             \u001b[0mem_total\u001b[0m \u001b[0;34m+=\u001b[0m\u001b[0;36m1\u001b[0m\u001b[0;34m\u001b[0m\u001b[0m\n\u001b[1;32m      7\u001b[0m         \u001b[0mtotal\u001b[0m \u001b[0;34m+=\u001b[0m \u001b[0;36m1\u001b[0m\u001b[0;34m\u001b[0m\u001b[0m\n",
      "\u001b[0;31mValueError\u001b[0m: The truth value of an array with more than one element is ambiguous. Use a.any() or a.all()"
     ]
    }
   ],
   "source": [
    "exact_match(first,second)"
   ]
  },
  {
   "cell_type": "code",
   "execution_count": 130,
   "metadata": {
    "collapsed": false
   },
   "outputs": [
    {
     "name": "stdout",
     "output_type": "stream",
     "text": [
      "not_settled_iter_{4}\n"
     ]
    }
   ],
   "source": [
    "name=\"mehdi\"\n",
    "score=2\n",
    "i=3\n",
    "print('not_settled_iter_{%d}' %(i+1))"
   ]
  },
  {
   "cell_type": "code",
   "execution_count": 139,
   "metadata": {
    "collapsed": false
   },
   "outputs": [],
   "source": [
    "import logging\n",
    "logging.basicConfig(level=logging.INFO)\n",
    "num_parameters=2\n",
    "num_elementss=10\n",
    "v='s'\n",
    "logging.info('Number of parameters %d' % num_parameters)\n",
    "logging.info('Variable {v} has {num} entries'.format(v=v, num=num_elementss))"
   ]
  },
  {
   "cell_type": "code",
   "execution_count": 144,
   "metadata": {
    "collapsed": false
   },
   "outputs": [
    {
     "data": {
      "text/plain": [
       "'flags_8.json'"
      ]
     },
     "execution_count": 144,
     "metadata": {},
     "output_type": "execute_result"
    }
   ],
   "source": [
    "i=8\n",
    "\"flags_{}.json\".format(i)"
   ]
  },
  {
   "cell_type": "code",
   "execution_count": 147,
   "metadata": {
    "collapsed": false
   },
   "outputs": [
    {
     "name": "stdout",
     "output_type": "stream",
     "text": [
      "[5, 6, 7, 8, 9]\n",
      "[3, 4, 5, 6]\n",
      "Counter({5: 1, 6: 1})\n"
     ]
    }
   ],
   "source": [
    "from collections import Counter\n",
    "prediction_range=range(5,10)\n",
    "true_range=range(3,7)\n",
    "print(prediction_range)\n",
    "print(true_range)\n",
    "common = Counter(prediction_range) & Counter(true_range)\n",
    "print(common)"
   ]
  },
  {
   "cell_type": "code",
   "execution_count": 153,
   "metadata": {
    "collapsed": false
   },
   "outputs": [
    {
     "name": "stdout",
     "output_type": "stream",
     "text": [
      "('Step 2', 'Dev loss 60.000000', 'Train/Dev F1: 12.000000 34.000000', 'Train/Dev EM: 22.000000 88.000000')\n"
     ]
    }
   ],
   "source": [
    "step=2\n",
    "dev_loss=60\n",
    "train_f1=12\n",
    "dev_f1=34\n",
    "train_em=22\n",
    "dev_em=88\n",
    "print('Step %d' %step, 'Dev loss %f' %dev_loss, 'Train/Dev F1: %f %f' %(train_f1,dev_f1), 'Train/Dev EM: %f %f' %(train_em,dev_em))\n",
    "# print('Step %d' %step, 'Dev loss %f' %dev_loss, 'Train/Dev F1: %f %f' %train_f1 %dev_f1, 'Train/Dev EM: %f %f' %train_em %dev_em) "
   ]
  },
  {
   "cell_type": "code",
   "execution_count": 215,
   "metadata": {
    "collapsed": false
   },
   "outputs": [
    {
     "name": "stdout",
     "output_type": "stream",
     "text": [
      "[<tf.Tensor 'multinomial/Multinomial:0' shape=(3, 1) dtype=int64>, <tf.Tensor 'multinomial_1/Multinomial:0' shape=(3, 1) dtype=int64>, <tf.Tensor 'multinomial_2/Multinomial:0' shape=(3, 1) dtype=int64>, <tf.Tensor 'multinomial_3/Multinomial:0' shape=(3, 1) dtype=int64>]\n",
      "[array([[2],\n",
      "       [1],\n",
      "       [0]]), array([[2],\n",
      "       [1],\n",
      "       [0]]), array([[2],\n",
      "       [1],\n",
      "       [0]]), array([[2],\n",
      "       [1],\n",
      "       [0]])]\n",
      "Tensor(\"stack:0\", shape=(4, 3, 1), dtype=int64)\n",
      "[[[2]\n",
      "  [2]\n",
      "  [2]]\n",
      "\n",
      " [[2]\n",
      "  [2]\n",
      "  [2]]\n",
      "\n",
      " [[2]\n",
      "  [2]\n",
      "  [2]]\n",
      "\n",
      " [[2]\n",
      "  [2]\n",
      "  [2]]]\n"
     ]
    }
   ],
   "source": [
    "tf.reset_default_graph()\n",
    "d=tf.constant([[[3,2],[7,8],[1,1]],\n",
    "               [[0,5],[1,8],[4,9]],\n",
    "               [[6,3],[2,7],[9,5]]])\n",
    "\n",
    "guess_start = []\n",
    "for t in range(4):\n",
    "    samples = tf.multinomial(tf.log([[10., 10.,20,50],[10,10,10,10],[20,20,20,20]]), 1,seed=10)\n",
    "    guess_start.append(samples)\n",
    "\n",
    "\n",
    "with tf.Session() as sess:\n",
    "#     print(sess.run(d))\n",
    "#     print(sess.run(d[:,:,0]))\n",
    "    print(guess_start)\n",
    "    print(sess.run(guess_start))\n",
    "    ss = tf.stack(guess_start)\n",
    "    print(ss)\n",
    "    print(sess.run(ss))"
   ]
  },
  {
   "cell_type": "code",
   "execution_count": 185,
   "metadata": {
    "collapsed": false
   },
   "outputs": [
    {
     "name": "stdout",
     "output_type": "stream",
     "text": [
      "[[2, 3], [4, 6]]\n",
      "[[2 3]\n",
      " [4 6]]\n"
     ]
    }
   ],
   "source": [
    "reward=[]\n",
    "reward.append([2,3])\n",
    "reward.append([4,6])\n",
    "print(reward)\n",
    "print(np.array(reward))"
   ]
  },
  {
   "cell_type": "code",
   "execution_count": 195,
   "metadata": {
    "collapsed": false
   },
   "outputs": [
    {
     "name": "stdout",
     "output_type": "stream",
     "text": [
      "[<tf.Tensor 'y1:0' shape=(?,) dtype=int32>, <tf.Tensor 'y1:0' shape=(?,) dtype=int32>, <tf.Tensor 'y1:0' shape=(?,) dtype=int32>, <tf.Tensor 'y1:0' shape=(?,) dtype=int32>]\n",
      "Tensor(\"stack:0\", shape=(4, ?), dtype=int32)\n"
     ]
    }
   ],
   "source": [
    "tf.reset_default_graph()\n",
    "y = tf.placeholder(tf.int32, (None,), name='y1')\n",
    "reward=[]\n",
    "for i in range(4):\n",
    "    reward.append(y)\n",
    "with tf.Session() as sess:\n",
    "    print((reward))\n",
    "    print((tf.stack(reward)))"
   ]
  },
  {
   "cell_type": "code",
   "execution_count": 205,
   "metadata": {
    "collapsed": false
   },
   "outputs": [
    {
     "name": "stdout",
     "output_type": "stream",
     "text": [
      "<tensorflow.python.util.tf_should_use.TFShouldUseWarningWrapper object at 0x119be1990>\n",
      "Tensor(\"Shape:0\", shape=(3,), dtype=int32)\n",
      "[[[ 3  2  1  4]\n",
      "  [ 7  8  9  2]\n",
      "  [ 1  1  1  3]]\n",
      "\n",
      " [[ 0  0  0  5]\n",
      "  [ 1  1  1  8]\n",
      "  [ 1  1  1  9]]\n",
      "\n",
      " [[13  2  1  4]\n",
      "  [ 7 18  9  2]\n",
      "  [ 1  1 31  3]]\n",
      "\n",
      " [[30  0  0  5]\n",
      "  [61  1  1  8]\n",
      "  [ 1  1 41  9]]]\n"
     ]
    }
   ],
   "source": [
    "tf.reset_default_graph()\n",
    "d1=tf.constant([[[3,2,1,4],[7,8,9,2],[1,1,1,3]],\n",
    "               [[0,0,0,5],[1,1,1,8],[1,1,1,9]]])\n",
    "d2=tf.constant([[[13,2,1,4],[7,18,9,2],[1,1,31,3]],\n",
    "               [[30,0,0,5],[61,1,1,8],[1,1,41,9]]])\n",
    "ta = tf.TensorArray(dtype=tf.int32, size=2)\n",
    "ta=ta.write(0, d1)\n",
    "ta=ta.write(1, d2)\n",
    "with tf.Session() as sess:\n",
    "    print((ta))\n",
    "    print(tf.shape(ta.concat()))\n",
    "    print(sess.run(ta.concat()))"
   ]
  },
  {
   "cell_type": "code",
   "execution_count": 207,
   "metadata": {
    "collapsed": false
   },
   "outputs": [
    {
     "name": "stdout",
     "output_type": "stream",
     "text": [
      "Tensor(\"Const:0\", shape=(3, 2), dtype=int64)\n",
      "Tensor(\"Reshape:0\", shape=(6,), dtype=int64)\n",
      "[[1 2]\n",
      " [3 4]\n",
      " [7 8]]\n",
      "[1 2 3 4 7 8]\n"
     ]
    }
   ],
   "source": [
    "tf.reset_default_graph()\n",
    "first=tf.constant(np.array([[1,2],[3,4],[7,8]]))\n",
    "print(first)\n",
    "ss = tf.reshape(first,[-1])\n",
    "print(ss)\n",
    "with tf.Session() as sess:\n",
    "    print(sess.run(first))\n",
    "    print(sess.run(ss))"
   ]
  },
  {
   "cell_type": "code",
   "execution_count": 214,
   "metadata": {
    "collapsed": false
   },
   "outputs": [
    {
     "name": "stdout",
     "output_type": "stream",
     "text": [
      "[array([20, 25, 30, 10], dtype=int32), array([1, 2, 3, 4], dtype=int32), array([11, 12, 33,  4], dtype=int32)]\n",
      "[[20  1 11]\n",
      " [25  2 12]\n",
      " [30  3 33]\n",
      " [10  4  4]]\n",
      "[[20]\n",
      " [25]\n",
      " [30]\n",
      " [10]\n",
      " [ 1]\n",
      " [ 2]\n",
      " [ 3]\n",
      " [ 4]\n",
      " [11]\n",
      " [12]\n",
      " [33]\n",
      " [ 4]]\n"
     ]
    }
   ],
   "source": [
    "tf.reset_default_graph()\n",
    "y = tf.constant([20,25,30,10,1,2,3,4,11,12,33,4])\n",
    "with tf.Session() as sess:\n",
    "    print(sess.run(tf.split(y, 3)))\n",
    "    print(sess.run(tf.stack(tf.split(y, 3), axis=1)))\n",
    "    print(sess.run(tf.expand_dims(y, axis=1)))"
   ]
  },
  {
   "cell_type": "code",
   "execution_count": 217,
   "metadata": {
    "collapsed": false
   },
   "outputs": [
    {
     "name": "stdout",
     "output_type": "stream",
     "text": [
      "[ 0.  0.  0.  0.  0.]\n"
     ]
    }
   ],
   "source": [
    "tf.reset_default_graph()\n",
    "final_start_logits =tf.constant([[20,25,30,10,4],[1,2,3,4,5],[11,2,3,4,5]])\n",
    "reward = tf.zeros(tf.shape(final_start_logits[0]), dtype=tf.float32)\n",
    "with tf.Session() as sess:\n",
    "    print(sess.run(reward))"
   ]
  },
  {
   "cell_type": "code",
   "execution_count": 7,
   "metadata": {
    "collapsed": false
   },
   "outputs": [
    {
     "name": "stdout",
     "output_type": "stream",
     "text": [
      "[ 0.43748796  0.51301527  0.69314718]\n",
      "[ 0.43748799  0.51301527  0.69314718]\n"
     ]
    }
   ],
   "source": [
    "#Multi-class cross-entropy\n",
    "#p and q are expected to be probability distributions over N classes. \n",
    "#In particular, N can be 2, as in the following example\n",
    "p = tf.placeholder(tf.float32, shape=[None, 2])\n",
    "logit_q = tf.placeholder(tf.float32, shape=[None, 2])\n",
    "q = tf.nn.softmax(logit_q)\n",
    "\n",
    "feed_dict = {\n",
    "  p: [[0, 1],\n",
    "      [1, 0],\n",
    "      [1, 0]],\n",
    "  logit_q: [[0.2, 0.8],\n",
    "            [0.7, 0.3],\n",
    "            [0.5, 0.5]]\n",
    "}\n",
    "\n",
    "prob1 = -tf.reduce_sum(p * tf.log(q), axis=1)\n",
    "prob2 = tf.nn.softmax_cross_entropy_with_logits(labels=p, logits=logit_q)\n",
    "with tf.Session() as sess:\n",
    "    print(sess.run(prob1, feed_dict))  # [ 0.43748799  0.51301527  0.69314718]\n",
    "    print(sess.run(prob2,feed_dict))  # [ 0.43748799  0.51301527  0.69314718]"
   ]
  },
  {
   "cell_type": "code",
   "execution_count": 9,
   "metadata": {
    "collapsed": false
   },
   "outputs": [
    {
     "name": "stdout",
     "output_type": "stream",
     "text": [
      "[[ 0.54983395  0.54983395  0.52497917  0.59868765  0.52497917]\n",
      " [ 0.57444251  0.57444251  0.54983395  0.52497917  0.52497917]]\n"
     ]
    }
   ],
   "source": [
    "#Binary cross-entropy\n",
    "p = tf.placeholder(tf.float32, shape=[None, 5])\n",
    "logit_q = tf.placeholder(tf.float32, shape=[None, 5])\n",
    "q = tf.nn.sigmoid(logit_q)\n",
    "\n",
    "feed_dict = {\n",
    "  p: [[0, 0, 0, 1, 0],\n",
    "      [1, 0, 0, 0, 0]],\n",
    "  logit_q: [[0.2, 0.2, 0.1, 0.4, 0.1],\n",
    "            [0.3, 0.3, 0.2, 0.1, 0.1]]\n",
    "}\n",
    "\n",
    "prob1 = -p * tf.log(q)\n",
    "prob2 = p * -tf.log(q) + (1 - p) * -tf.log(1 - q)\n",
    "prob3 = p * -tf.log(tf.sigmoid(logit_q)) + (1-p) * -tf.log(1-tf.sigmoid(logit_q))\n",
    "prob4 = tf.nn.sigmoid_cross_entropy_with_logits(labels=p, logits=logit_q)\n",
    "with tf.Session() as sess:\n",
    "    print (sess.run(q, feed_dict))\n",
    "#     print(sess.run(prob1, feed_dict))\n",
    "#     print(sess.run(prob2,feed_dict))\n",
    "#     print(sess.run(prob3, feed_dict))\n",
    "#     print(sess.run(prob4,feed_dict))\n",
    "     "
   ]
  },
  {
   "cell_type": "code",
   "execution_count": 15,
   "metadata": {
    "collapsed": false
   },
   "outputs": [
    {
     "name": "stdout",
     "output_type": "stream",
     "text": [
      "[[ 0.04        0.09        0.25      ]\n",
      " [ 0.16000001  0.09        0.09      ]]\n",
      "[ 1.02965307  1.08890009]\n"
     ]
    }
   ],
   "source": [
    "act_probs=tf.constant([[0.2,0.3,0.5],[0.4,0.3,0.3]])\n",
    "entropy_1 = act_probs *(tf.clip_by_value(act_probs, 1e-10, 1.0))\n",
    "entropy = -tf.reduce_sum(act_probs *\n",
    "                         tf.log(tf.clip_by_value(act_probs, 1e-10, 1.0)), axis=1)\n",
    "with tf.Session() as sess:\n",
    "    print(sess.run(entropy_1))\n",
    "    print(sess.run(entropy))"
   ]
  },
  {
   "cell_type": "code",
   "execution_count": 17,
   "metadata": {
    "collapsed": true
   },
   "outputs": [],
   "source": [
    "graph = tf.get_default_graph()\n",
    "\n",
    "var = tf.Variable(0)\n",
    "\n",
    "for s in xrange(2):\n",
    "    with tf.name_scope('myscope_%d' % s):\n",
    "        op = var.assign_add(s + 1)\n",
    "\n",
    "all_operations = [graph.get_operation_by_name('myscope_%d/AssignAdd' % s) for s in range(2)]\n",
    "all_op = tf.group(*all_operations)"
   ]
  },
  {
   "cell_type": "code",
   "execution_count": 18,
   "metadata": {
    "collapsed": false
   },
   "outputs": [
    {
     "name": "stdout",
     "output_type": "stream",
     "text": [
      "WARNING:tensorflow:From /Users/mmashayekhi/venv/lib/python2.7/site-packages/tensorflow/python/util/tf_should_use.py:175: initialize_all_variables (from tensorflow.python.ops.variables) is deprecated and will be removed after 2017-03-02.\n",
      "Instructions for updating:\n",
      "Use `tf.global_variables_initializer` instead.\n"
     ]
    },
    {
     "name": "stderr",
     "output_type": "stream",
     "text": [
      "WARNING:tensorflow:From /Users/mmashayekhi/venv/lib/python2.7/site-packages/tensorflow/python/util/tf_should_use.py:175: initialize_all_variables (from tensorflow.python.ops.variables) is deprecated and will be removed after 2017-03-02.\n",
      "Instructions for updating:\n",
      "Use `tf.global_variables_initializer` instead.\n"
     ]
    },
    {
     "name": "stdout",
     "output_type": "stream",
     "text": [
      "0\n",
      "3\n"
     ]
    }
   ],
   "source": [
    "sess = tf.Session()\n",
    "sess.run(tf.initialize_all_variables())\n",
    "print sess.run(var)  # prints 0\n",
    "sess.run(all_op)\n",
    "print sess.run(var)  # prints 3"
   ]
  },
  {
   "cell_type": "code",
   "execution_count": 8,
   "metadata": {
    "collapsed": false
   },
   "outputs": [
    {
     "name": "stdout",
     "output_type": "stream",
     "text": [
      "1.0\n",
      "2.0\n",
      "mehdi\n"
     ]
    }
   ],
   "source": [
    "graph = tf.get_default_graph()\n",
    "q = tf.FIFOQueue(3,'float')\n",
    "init = q.enqueue_many(([0.,0.,0.,],))\n",
    "x = q.dequeue()\n",
    "y=x+1\n",
    "q_inc = q.enqueue([y])\n",
    "with tf.Session() as sess:\n",
    "    init.run()\n",
    "    q_inc.run()\n",
    "    q_inc.run()\n",
    "    q_inc.run()\n",
    "    q_inc.run()\n",
    "    print sess.run(x)\n",
    "    print sess.run(y)\n",
    "    print \"mehdi\""
   ]
  },
  {
   "cell_type": "code",
   "execution_count": 9,
   "metadata": {
    "collapsed": false
   },
   "outputs": [
    {
     "ename": "AttributeError",
     "evalue": "'module' object has no attribute 'data'",
     "output_type": "error",
     "traceback": [
      "\u001b[0;31m---------------------------------------------------------------------------\u001b[0m",
      "\u001b[0;31mAttributeError\u001b[0m                            Traceback (most recent call last)",
      "\u001b[0;32m<ipython-input-9-63d839e85877>\u001b[0m in \u001b[0;36m<module>\u001b[0;34m()\u001b[0m\n\u001b[1;32m      2\u001b[0m \u001b[0mgraph\u001b[0m \u001b[0;34m=\u001b[0m \u001b[0mtf\u001b[0m\u001b[0;34m.\u001b[0m\u001b[0mget_default_graph\u001b[0m\u001b[0;34m(\u001b[0m\u001b[0;34m)\u001b[0m\u001b[0;34m\u001b[0m\u001b[0m\n\u001b[1;32m      3\u001b[0m \u001b[0minput\u001b[0m \u001b[0;34m=\u001b[0m \u001b[0mtf\u001b[0m\u001b[0;34m.\u001b[0m\u001b[0mconstant\u001b[0m\u001b[0;34m(\u001b[0m\u001b[0mlist\u001b[0m\u001b[0;34m(\u001b[0m\u001b[0mrange\u001b[0m\u001b[0;34m(\u001b[0m\u001b[0;36m100\u001b[0m\u001b[0;34m)\u001b[0m\u001b[0;34m)\u001b[0m\u001b[0;34m)\u001b[0m\u001b[0;34m\u001b[0m\u001b[0m\n\u001b[0;32m----> 4\u001b[0;31m \u001b[0minput\u001b[0m \u001b[0;34m=\u001b[0m \u001b[0mtf\u001b[0m\u001b[0;34m.\u001b[0m\u001b[0mdata\u001b[0m\u001b[0;34m.\u001b[0m\u001b[0mDataset\u001b[0m\u001b[0;34m.\u001b[0m\u001b[0mfrom_tensor_slices\u001b[0m\u001b[0;34m(\u001b[0m\u001b[0minput\u001b[0m\u001b[0;34m)\u001b[0m\u001b[0;34m\u001b[0m\u001b[0m\n\u001b[0m\u001b[1;32m      5\u001b[0m \u001b[0minput\u001b[0m \u001b[0;34m=\u001b[0m \u001b[0minput\u001b[0m\u001b[0;34m.\u001b[0m\u001b[0mmake_one_shot_iterator\u001b[0m\u001b[0;34m(\u001b[0m\u001b[0;34m)\u001b[0m\u001b[0;34m.\u001b[0m\u001b[0mget_next\u001b[0m\u001b[0;34m(\u001b[0m\u001b[0;34m)\u001b[0m\u001b[0;34m\u001b[0m\u001b[0m\n\u001b[1;32m      6\u001b[0m \u001b[0;32mwith\u001b[0m \u001b[0mtf\u001b[0m\u001b[0;34m.\u001b[0m\u001b[0mSession\u001b[0m\u001b[0;34m(\u001b[0m\u001b[0;34m)\u001b[0m \u001b[0;32mas\u001b[0m \u001b[0msess\u001b[0m\u001b[0;34m:\u001b[0m\u001b[0;34m\u001b[0m\u001b[0m\n",
      "\u001b[0;31mAttributeError\u001b[0m: 'module' object has no attribute 'data'"
     ]
    }
   ],
   "source": [
    "# create a dataset that counts from 0 to 99\n",
    "graph = tf.get_default_graph()\n",
    "input = tf.constant(list(range(100)))\n",
    "input = tf.data.Dataset.from_tensor_slices(input)\n",
    "input = input.make_one_shot_iterator().get_next()\n",
    "with tf.Session() as sess:\n",
    "    print sess.run(input)\n",
    "    "
   ]
  },
  {
   "cell_type": "code",
   "execution_count": 12,
   "metadata": {
    "collapsed": false
   },
   "outputs": [
    {
     "name": "stdout",
     "output_type": "stream",
     "text": [
      "[1 7 7 2]\n",
      "[[1]\n",
      " [7]\n",
      " [7]\n",
      " [2]]\n"
     ]
    }
   ],
   "source": [
    "graph = tf.get_default_graph()\n",
    "rewards = b=tf.constant([1,7,7,2])\n",
    "reward_ph = tf.expand_dims(rewards, 1)\n",
    "with tf.Session() as sess:\n",
    "    print sess.run(rewards) \n",
    "    print sess.run(reward_ph)"
   ]
  },
  {
   "cell_type": "code",
   "execution_count": 9,
   "metadata": {
    "collapsed": false
   },
   "outputs": [
    {
     "name": "stdout",
     "output_type": "stream",
     "text": [
      "[[3 2 1 4]\n",
      " [7 8 9 2]\n",
      " [1 1 1 3]\n",
      " [0 0 0 5]\n",
      " [1 1 1 8]\n",
      " [1 1 1 9]]\n",
      "[3 2 3 3 3 3]\n",
      "[ 0.  0.  0.  1.  0.  0.  0.  0.  0.  0.  0.  0.]\n"
     ]
    }
   ],
   "source": [
    "tf.reset_default_graph()\n",
    "d1=tf.constant([[3,2,1,4],[7,8,9,2],[1,1,1,3],[0,0,0,5],[1,1,1,8],[1,1,1,9]])\n",
    "with tf.Session() as sess:\n",
    "    print((sess.run(d1)))\n",
    "    print (sess.run(tf.argmax(d1, axis = -1)))\n",
    "    print (sess.run(tf.one_hot(3,12)))"
   ]
  },
  {
   "cell_type": "code",
   "execution_count": 20,
   "metadata": {
    "collapsed": false
   },
   "outputs": [
    {
     "name": "stdout",
     "output_type": "stream",
     "text": [
      "Tensor(\"Const:0\", shape=(4, 3, 3, 3), dtype=int32)\n",
      "Tensor(\"strided_slice:0\", shape=(4, 3, 3), dtype=int32)\n",
      "[[[[ 3  2  1]\n",
      "   [ 7  8  9]\n",
      "   [ 1  1  1]]\n",
      "\n",
      "  [[ 3  2  1]\n",
      "   [ 7  8  9]\n",
      "   [ 1  1  1]]\n",
      "\n",
      "  [[ 9  2  1]\n",
      "   [ 7  8  9]\n",
      "   [ 1  1  1]]]\n",
      "\n",
      "\n",
      " [[[ 0  0  0]\n",
      "   [ 1  1  1]\n",
      "   [ 1  1  1]]\n",
      "\n",
      "  [[ 3  2  1]\n",
      "   [ 7  8  9]\n",
      "   [ 1  1  1]]\n",
      "\n",
      "  [[ 5  2  1]\n",
      "   [ 7  8  9]\n",
      "   [ 1  1  1]]]\n",
      "\n",
      "\n",
      " [[[ 2  2  2]\n",
      "   [ 3  3  3]\n",
      "   [ 1  1  1]]\n",
      "\n",
      "  [[ 3  2  1]\n",
      "   [ 7  8  9]\n",
      "   [ 1  1  1]]\n",
      "\n",
      "  [[13  2  1]\n",
      "   [ 7  8  9]\n",
      "   [ 1  1  1]]]\n",
      "\n",
      "\n",
      " [[[ 4  4  4]\n",
      "   [ 5  5  5]\n",
      "   [ 1  1  1]]\n",
      "\n",
      "  [[ 3  2  1]\n",
      "   [ 7  8  9]\n",
      "   [ 1  1  1]]\n",
      "\n",
      "  [[ 4  2  1]\n",
      "   [ 7  8  9]\n",
      "   [ 1  1  1]]]]\n",
      "sssssss\n",
      "[[[3 2 1]\n",
      "  [7 8 9]\n",
      "  [1 1 1]]\n",
      "\n",
      " [[0 0 0]\n",
      "  [1 1 1]\n",
      "  [1 1 1]]\n",
      "\n",
      " [[2 2 2]\n",
      "  [3 3 3]\n",
      "  [1 1 1]]\n",
      "\n",
      " [[4 4 4]\n",
      "  [5 5 5]\n",
      "  [1 1 1]]]\n"
     ]
    }
   ],
   "source": [
    "tf.reset_default_graph()\n",
    "\n",
    "a=tf.constant([[[[3,2,1],[7,8,9],[1,1,1]],[[3,2,1],[7,8,9],[1,1,1]],[[9,2,1],[7,8,9],[1,1,1]]],\n",
    "               [[[0,0,0],[1,1,1],[1,1,1]],[[3,2,1],[7,8,9],[1,1,1]],[[5,2,1],[7,8,9],[1,1,1]]], \n",
    "               [[[2,2,2],[3,3,3],[1,1,1]],[[3,2,1],[7,8,9],[1,1,1]],[[13,2,1],[7,8,9],[1,1,1]]], \n",
    "               [[[4,4,4],[5,5,5],[1,1,1]],[[3,2,1],[7,8,9],[1,1,1]],[[4,2,1],[7,8,9],[1,1,1]]]])\n",
    "print (a)\n",
    "b=a[:, 0, ...]\n",
    "print(b)\n",
    "with tf.Session() as sess:\n",
    "    print(sess.run(a))\n",
    "    print(\"sssssss\")\n",
    "    print(sess.run(b))"
   ]
  },
  {
   "cell_type": "code",
   "execution_count": 17,
   "metadata": {
    "collapsed": false
   },
   "outputs": [
    {
     "name": "stdout",
     "output_type": "stream",
     "text": [
      "[ 3.  4.]\n",
      "[ 2.66666675  2.66666675]\n"
     ]
    }
   ],
   "source": [
    "x = tf.constant([[1,2], [3,4], [5,6]], dtype =tf.float32)\n",
    "mean, variance = tf.nn.moments(x, [0])\n",
    "with tf.Session() as sess:\n",
    "    m, v = sess.run([mean, variance])\n",
    "    print(m)\n",
    "    print(v)"
   ]
  },
  {
   "cell_type": "code",
   "execution_count": 34,
   "metadata": {
    "collapsed": false
   },
   "outputs": [
    {
     "name": "stdout",
     "output_type": "stream",
     "text": [
      "Tensor(\"Squeeze:0\", shape=(2,), dtype=int64)\n",
      "(2,)\n"
     ]
    }
   ],
   "source": [
    "tf.reset_default_graph()\n",
    "prob = tf.constant([[0.1, 0.2, 0.7],[0.3, 0.3, 0.4]], dtype =tf.float32)\n",
    "with tf.Session() as sess:\n",
    "    temp= tf.squeeze(sess.run(tf.multinomial(prob,1)))\n",
    "    print(temp)\n",
    "    print(temp.shape)"
   ]
  },
  {
   "cell_type": "code",
   "execution_count": 8,
   "metadata": {
    "collapsed": false
   },
   "outputs": [
    {
     "name": "stdout",
     "output_type": "stream",
     "text": [
      "70\n"
     ]
    }
   ],
   "source": [
    "res = [0]\n",
    "n=8\n",
    "prices=[1,15,18,35,15,17,17,20]\n",
    "def helper(curN, prices, curVal, res):\n",
    "    #print(curN,res,curVal)\n",
    "    if curN==0:\n",
    "        res[0]=max(curVal, res[0])\n",
    "        return\n",
    "    for i in range(1,curN+1):\n",
    "        helper(curN-i, prices, curVal+prices[i-1],res)\n",
    "helper(n, prices,0,res)\n",
    "print (res[0])"
   ]
  },
  {
   "cell_type": "code",
   "execution_count": 16,
   "metadata": {
    "collapsed": false
   },
   "outputs": [
    {
     "name": "stdout",
     "output_type": "stream",
     "text": [
      "[[[ 1  4]\n",
      "  [ 8  9]]\n",
      "\n",
      " [[ 2  5]\n",
      "  [12 19]]]\n",
      "[array([[1, 4],\n",
      "       [8, 9]], dtype=int32), array([[ 2,  5],\n",
      "       [12, 19]], dtype=int32)]\n",
      "[ 0.  0.  0.  1.  0.  0.  0.]\n",
      "22\n"
     ]
    }
   ],
   "source": [
    "tf.reset_default_graph()\n",
    "#x = [0., 1., 2., 3., 4., 5., 6., 7.]\n",
    "#y = tf.reshape(x, [2, 2, 2])\n",
    "#unstack_axis0 = tf.unstack(y, axis=0)\n",
    "x = tf.constant([[1, 4], [8,9]])\n",
    "y = tf.constant([[2, 5],[12,19]])\n",
    "#z = tf.constant([[3, 6],[2,7]])\n",
    "aa = tf.stack([x,y])\n",
    "bb = tf.unstack(aa)\n",
    "ss = tf.one_hot(3, 7, 1.0, 0.0)\n",
    "with tf.Session() as sess:\n",
    "    print (sess.run(aa))\n",
    "    print (sess.run(bb))\n",
    "    print (sess.run(ss))\n",
    "    print(sess.run(tf.reduce_sum(x)))\n",
    "    #print(sess.run(unstack_axis0))\n"
   ]
  },
  {
   "cell_type": "code",
   "execution_count": 29,
   "metadata": {
    "collapsed": false
   },
   "outputs": [
    {
     "name": "stdout",
     "output_type": "stream",
     "text": [
      "[[666 497]\n",
      " [730 588]]\n"
     ]
    }
   ],
   "source": [
    "def body(i, x):\n",
    "    a = tf.random_uniform(shape=[2, 2], dtype=tf.int32, maxval=100)\n",
    "    b = tf.constant(np.array([[1, 2], [3, 4]]), dtype=tf.int32)\n",
    "    c = a + b\n",
    "    return i+1, tf.nn.relu(x + c)\n",
    "\n",
    "def condition(i, x):\n",
    "    return tf.reduce_sum(i) < 10\n",
    "    #return lambda i, _1: i < 5\n",
    "    \n",
    "x = tf.Variable(tf.constant(0, shape=[2, 2]))\n",
    "i = tf.constant(0, dtype=tf.int32)\n",
    "\n",
    "with tf.Session():\n",
    "    tf.global_variables_initializer().run()\n",
    "    _, result = tf.while_loop(condition, body, [i,x])\n",
    "    print(result.eval())"
   ]
  },
  {
   "cell_type": "code",
   "execution_count": 3,
   "metadata": {
    "collapsed": false
   },
   "outputs": [
    {
     "name": "stdout",
     "output_type": "stream",
     "text": [
      "Tensor(\"Identity:0\", shape=(), dtype=int32)\n",
      "0\n"
     ]
    }
   ],
   "source": [
    "tf.reset_default_graph()\n",
    "x = tf.identity(0)\n",
    "print(x)\n",
    "with tf.Session() as sess:\n",
    "    print (sess.run(x))"
   ]
  },
  {
   "cell_type": "code",
   "execution_count": 5,
   "metadata": {
    "collapsed": false
   },
   "outputs": [
    {
     "name": "stdout",
     "output_type": "stream",
     "text": [
      "0.0\n"
     ]
    }
   ],
   "source": [
    "tf.reset_default_graph()\n",
    "warmup=0.002\n",
    "x = 0.003\n",
    "s = tf.cast(x <= warmup, tf.float32)\n",
    "with tf.Session() as sess:\n",
    "    print(sess.run(s))"
   ]
  },
  {
   "cell_type": "code",
   "execution_count": null,
   "metadata": {
    "collapsed": true
   },
   "outputs": [],
   "source": []
  }
 ],
 "metadata": {
  "kernelspec": {
   "display_name": "Python 2",
   "language": "python",
   "name": "python2"
  },
  "language_info": {
   "codemirror_mode": {
    "name": "ipython",
    "version": 2
   },
   "file_extension": ".py",
   "mimetype": "text/x-python",
   "name": "python",
   "nbconvert_exporter": "python",
   "pygments_lexer": "ipython2",
   "version": "2.7.10"
  }
 },
 "nbformat": 4,
 "nbformat_minor": 2
}
